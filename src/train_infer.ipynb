{
 "cells": [
  {
   "cell_type": "code",
   "execution_count": 1,
   "metadata": {
    "_cell_guid": "b1076dfc-b9ad-4769-8c92-a6c4dae69d19",
    "_uuid": "8f2839f25d086af736a60e9eeb907d3b93b6e0e5"
   },
   "outputs": [],
   "source": [
    "from os.path import join\n",
    "import numpy as np\n",
    "import pandas as pd \n",
    "import gc\n",
    "from tqdm import tqdm\n",
    "import cv2\n",
    "import time\n",
    "import datetime\n",
    "import yaml\n",
    "import os\n",
    "import random\n",
    "import sys\n",
    "\n",
    "import timm\n",
    "import ttach as tta\n",
    "import torch\n",
    "import torch.nn as nn\n",
    "import torch.nn.functional as F\n",
    "from torch.utils.data import DataLoader\n",
    "from torch.optim import AdamW\n",
    "from torch.optim.lr_scheduler import ReduceLROnPlateau, StepLR\n",
    "\n",
    "from sklearn.metrics import roc_auc_score\n",
    "\n",
    "from dataset import MelanomaDataset, train_transforms, test_transforms, tta_transforms\n",
    "\n",
    "import warnings\n",
    "warnings.filterwarnings('ignore')"
   ]
  },
  {
   "cell_type": "code",
   "execution_count": 2,
   "metadata": {},
   "outputs": [
    {
     "name": "stdout",
     "output_type": "stream",
     "text": [
      "Config params:\n",
      "{'INPUT_DIR': '../input/', 'MODELS_DIR': '../models/', 'SUBMISSIONS_DIR': '../submissions/', 'batch_size': 10, 'learning_rate': 0.0003, 'n_epochs': 25, 'n_workers': 8, 'early_stopping_patience': 5, 'reduce_lr_on_plateau_patience': 1, 'reduce_lr_on_plateau_factor': 0.2, 'weight_decay': 0.001, 'n_folds': 5, 'images_size': '512x512', 'model_name': 'tf_efficientnet_b3_ns', 'exp_train_name': 'exp_train_05', 'use_test_labels': False, 'seed': 42, 'device': 'cuda:0', 'folds_train_file': 'train_folds_stratified'}\n"
     ]
    }
   ],
   "source": [
    "exp_name = 'exp_train_07'\n",
    "with open(join('../configs/', f'{exp_name}.yaml'), 'r') as stream:\n",
    "    try:\n",
    "        config = yaml.safe_load(stream)\n",
    "    except yaml.YAMLError as exc:\n",
    "        print(exc)\n",
    "\n",
    "print('Config params:')\n",
    "print(config)"
   ]
  },
  {
   "cell_type": "code",
   "execution_count": 3,
   "metadata": {},
   "outputs": [],
   "source": [
    "def seed_everything(seed):\n",
    "    random.seed(seed)\n",
    "    os.environ['PYTHONHASHSEED'] = str(seed)\n",
    "    np.random.seed(seed)\n",
    "    torch.manual_seed(seed)\n",
    "    torch.cuda.manual_seed(seed)\n",
    "    torch.backends.cudnn.benchmark = True\n",
    "    torch.backends.cudnn.deterministic = True\n",
    "\n",
    "seed_everything(config['seed'])\n",
    "INPUT_DIR = config['INPUT_DIR']\n",
    "MODELS_DIR = config['MODELS_DIR']\n",
    "SUBMISSIONS_DIR = config['SUBMISSIONS_DIR']\n",
    "os.makedirs(join(MODELS_DIR, exp_name), exist_ok=True)\n",
    "log_file = join(MODELS_DIR, exp_name, f'{exp_name}.txt')\n",
    "try: os.mknod(log_file)\n",
    "except: pass\n",
    "\n",
    "BS = config['batch_size']\n",
    "LR = config['learning_rate']\n",
    "EPOCHS = config['n_epochs']\n",
    "WORKERS = config['n_workers']\n",
    "ES_PATIENCE = config['early_stopping_patience']\n",
    "REDUCELR_PATIENCE = config['reduce_lr_on_plateau_patience']\n",
    "REDUCELR_FACTOR = config['reduce_lr_on_plateau_factor']\n",
    "WEIGHT_DECAY = config['weight_decay']\n",
    "# STEP_SIZE = config['steplr_step_size']\n",
    "\n",
    "N_FOLDS = config['n_folds']\n",
    "images_size = config['images_size']\n",
    "model_name = config['model_name'] # https://github.com/rwightman/pytorch-image-models\n",
    "device = config['device'] # torch.device(\"cuda:0\" if torch.cuda.is_available() else \"cpu\")\n",
    "\n",
    "torch.cuda.empty_cache()\n",
    "gc.collect();"
   ]
  },
  {
   "cell_type": "code",
   "execution_count": null,
   "metadata": {},
   "outputs": [],
   "source": [
    "df_train = pd.read_csv(join(INPUT_DIR, f'{config[\"folds_train_file\"]}.csv'))\n",
    "df_test = pd.read_csv(join(INPUT_DIR, 'sample_submission.csv'))\n",
    "test = MelanomaDataset(df_test, INPUT_DIR, images_size, test_transforms)"
   ]
  },
  {
   "cell_type": "code",
   "execution_count": null,
   "metadata": {},
   "outputs": [],
   "source": [
    "preds = torch.zeros((len(test), 1), dtype=torch.float32, device=device)\n",
    "\n",
    "folds = list(range(N_FOLDS))\n",
    "for fold in folds:\n",
    "    print(f'Fold: {fold}')\n",
    "    folds_to_train = list(set(folds)-set([fold]))\n",
    "    \n",
    "    best_val = None \n",
    "    patience = ES_PATIENCE\n",
    "    model = timm.create_model(model_name, pretrained=True, num_classes=1)\n",
    "    model.cuda()\n",
    "    \n",
    "    optim = AdamW(model.parameters(), lr=LR, weight_decay=WEIGHT_DECAY, amsgrad=True)\n",
    "    # scheduler = StepLR(optim, step_size=STEP_SIZE, gamma=0.3)\n",
    "    scheduler = ReduceLROnPlateau(optim, patience=REDUCELR_PATIENCE, factor=REDUCELR_FACTOR, \n",
    "                                  mode='max', verbose=True)\n",
    "    criterion = nn.BCEWithLogitsLoss()\n",
    "\n",
    "    train_df = df_train[df_train['kfold'].isin(folds_to_train)].reset_index(drop=True)\n",
    "    valid_df = df_train[df_train['kfold'] == fold].reset_index(drop=True)\n",
    "\n",
    "    train = MelanomaDataset(train_df, INPUT_DIR, images_size, train_transforms)\n",
    "    val = MelanomaDataset(valid_df, INPUT_DIR, images_size, test_transforms)\n",
    "    \n",
    "    train_loader = DataLoader(train, batch_size=BS, shuffle=True, num_workers=WORKERS)\n",
    "    val_loader = DataLoader(val, batch_size=BS, shuffle=False, num_workers=WORKERS)\n",
    "\n",
    "    model_path = join(MODELS_DIR, exp_name, f'fold_{fold}_weight.pth')\n",
    "\n",
    "    for epoch in range(EPOCHS):\n",
    "        start_time = time.time()\n",
    "        epoch_loss = 0\n",
    "        \n",
    "        model.train()\n",
    "        for i, (x, y) in enumerate(tqdm(train_loader, total=len(train_loader), position=0, leave=True)):\n",
    "            x = torch.tensor(x, device=device, dtype=torch.float32)\n",
    "            y = torch.tensor(y, device=device, dtype=torch.float32)\n",
    "            optim.zero_grad()\n",
    "            z = model(x)\n",
    "            loss = criterion(z, y.unsqueeze(1))\n",
    "            loss.backward()\n",
    "            optim.step()\n",
    "            epoch_loss += loss.item()\n",
    "\n",
    "        model.eval()\n",
    "        val_preds = torch.zeros((len(valid_df), 1), dtype=torch.float32, device=device)\n",
    "        with torch.no_grad():\n",
    "            for j, (x_val, y_val) in enumerate(tqdm(val_loader, total=len(val_loader), position=0, leave=True)):\n",
    "                x_val = torch.tensor(x_val, device=device, dtype=torch.float32)\n",
    "                y_val = torch.tensor(y_val, device=device, dtype=torch.float32)\n",
    "                z_val = model(x_val)\n",
    "                val_pred = torch.sigmoid(z_val)\n",
    "                val_preds[j*x_val.shape[0]:j*x_val.shape[0] + x_val.shape[0]] = val_pred\n",
    "            val_auc = roc_auc_score(valid_df['target'].values, val_preds.cpu().detach())\n",
    "            \n",
    "            print('Epoch {:02}: | Loss: {:.4f} | Val roc_auc: {:.4f} | Training time: {}'.format(\n",
    "            epoch+1, \n",
    "            epoch_loss, \n",
    "            val_auc, \n",
    "            str(datetime.timedelta(seconds=time.time() - start_time))[:7]))\n",
    "            \n",
    "            scheduler.step(val_auc)\n",
    "            # During the first iteration (first epoch) best validation is set to None\n",
    "            if not best_val:\n",
    "                best_val = val_auc\n",
    "                torch.save(model, model_path) \n",
    "                continue\n",
    "                \n",
    "            if val_auc >= best_val:\n",
    "                best_val = val_auc\n",
    "                patience = ES_PATIENCE\n",
    "                torch.save(model, model_path)\n",
    "            else:\n",
    "                patience -= 1\n",
    "                if patience == 0:\n",
    "                    print('Early stopping. Best Val roc_auc: {:.4f}'.format(best_val))\n",
    "                    break\n",
    "    \n",
    "    test_loader = DataLoader(test, batch_size=BS, shuffle=False, num_workers=WORKERS)\n",
    "    model = torch.load(model_path)\n",
    "    model.eval()\n",
    "    tta_model = tta.ClassificationTTAWrapper(model, tta_transforms)\n",
    "    with torch.no_grad():\n",
    "        for i, (x_test, _) in enumerate(tqdm(test_loader, total=len(test_loader), position=0, leave=True)):\n",
    "            x_test = torch.tensor(x_test, device=device, dtype=torch.float32)\n",
    "            z_test = tta_model(x_test)\n",
    "            z_test = torch.sigmoid(z_test)\n",
    "            preds[i*x_test.shape[0]:i*x_test.shape[0] + x_test.shape[0]] += z_test\n",
    "\n",
    "    del train, val, train_loader, val_loader, train_df, valid_df, x, y, x_val, y_val, x_test, _\n",
    "    torch.cuda.empty_cache()\n",
    "    gc.collect()\n",
    "\n",
    "preds /= len(folds)"
   ]
  },
  {
   "cell_type": "code",
   "execution_count": null,
   "metadata": {},
   "outputs": [],
   "source": [
    "print('Making submission...')\n",
    "sub = pd.read_csv(join(INPUT_DIR, 'sample_submission.csv'))\n",
    "sub['target'] = preds.cpu().detach().numpy().reshape(-1,)\n",
    "sub.to_csv(join(SUBMISSIONS_DIR, f'{exp_name}.csv'), index=False)\n",
    "torch.cuda.empty_cache()\n",
    "gc.collect()\n",
    "print('Submission is created...')"
   ]
  },
  {
   "cell_type": "code",
   "execution_count": 4,
   "metadata": {},
   "outputs": [
    {
     "name": "stdout",
     "output_type": "stream",
     "text": [
      "Getting result on hold-out set...\n"
     ]
    },
    {
     "name": "stderr",
     "output_type": "stream",
     "text": [
      "  0%|          | 0/332 [00:00<?, ?it/s]"
     ]
    },
    {
     "name": "stdout",
     "output_type": "stream",
     "text": [
      "0 fold model:\n"
     ]
    },
    {
     "name": "stderr",
     "output_type": "stream",
     "text": [
      "100%|██████████| 332/332 [02:35<00:00,  2.14it/s]\n",
      "  0%|          | 0/332 [00:00<?, ?it/s]"
     ]
    },
    {
     "name": "stdout",
     "output_type": "stream",
     "text": [
      "1 fold model:\n"
     ]
    },
    {
     "name": "stderr",
     "output_type": "stream",
     "text": [
      "100%|██████████| 332/332 [02:34<00:00,  2.15it/s]\n",
      "  0%|          | 0/332 [00:00<?, ?it/s]"
     ]
    },
    {
     "name": "stdout",
     "output_type": "stream",
     "text": [
      "2 fold model:\n"
     ]
    },
    {
     "name": "stderr",
     "output_type": "stream",
     "text": [
      "100%|██████████| 332/332 [02:34<00:00,  2.15it/s]\n",
      "  0%|          | 0/332 [00:00<?, ?it/s]"
     ]
    },
    {
     "name": "stdout",
     "output_type": "stream",
     "text": [
      "3 fold model:\n"
     ]
    },
    {
     "name": "stderr",
     "output_type": "stream",
     "text": [
      "100%|██████████| 332/332 [02:34<00:00,  2.15it/s]\n",
      "  0%|          | 0/332 [00:00<?, ?it/s]"
     ]
    },
    {
     "name": "stdout",
     "output_type": "stream",
     "text": [
      "4 fold model:\n"
     ]
    },
    {
     "name": "stderr",
     "output_type": "stream",
     "text": [
      "100%|██████████| 332/332 [02:34<00:00,  2.15it/s]"
     ]
    },
    {
     "name": "stdout",
     "output_type": "stream",
     "text": [
      "\n",
      "ROC AUC on hold-out set: 0.8529\n"
     ]
    },
    {
     "name": "stderr",
     "output_type": "stream",
     "text": [
      "\n"
     ]
    }
   ],
   "source": [
    "print('Getting result on hold-out set...')\n",
    "\n",
    "df = pd.read_csv(join(INPUT_DIR, f'{config[\"folds_train_file\"]}.csv'))\n",
    "df_hold_out = df[df['kfold'] == -1].reset_index(drop=True)\n",
    "hold_out = MelanomaDataset(df_hold_out, INPUT_DIR, images_size, test_transforms)\n",
    "\n",
    "preds = torch.zeros((len(hold_out), 1), dtype=torch.float32, device=device)\n",
    "\n",
    "folds = list(range(N_FOLDS))\n",
    "for fold in folds:\n",
    "    print(f'{fold} fold model:')\n",
    "    hold_out_loader = DataLoader(hold_out, batch_size=BS, shuffle=False, num_workers=WORKERS)\n",
    "\n",
    "    model_path = join(MODELS_DIR, exp_name, f'fold_{fold}_weight.pth')\n",
    "    model = torch.load(model_path)\n",
    "    model.eval()\n",
    "    tta_model = tta.ClassificationTTAWrapper(model, tta_transforms)\n",
    "    with torch.no_grad():\n",
    "        for i, (x_test, _) in enumerate(tqdm(hold_out_loader, total=len(hold_out_loader), position=0, leave=True)):\n",
    "            x_test = torch.tensor(x_test, device=device, dtype=torch.float32)\n",
    "            z_test = tta_model(x_test)\n",
    "            z_test = torch.sigmoid(z_test)\n",
    "            preds[i*x_test.shape[0]:i*x_test.shape[0] + x_test.shape[0]] += z_test\n",
    "preds /= len(folds)\n",
    "preds = preds.cpu().detach().numpy()\n",
    "\n",
    "df_hold_out_pred = df_hold_out[['image_name', 'target']]\n",
    "df_hold_out_pred['prediction'] = preds.reshape(-1, ).tolist()\n",
    "df_hold_out_pred.to_csv(join(MODELS_DIR, exp_name, f'{exp_name}_hold_out.csv'), index=False)\n",
    "\n",
    "hold_out_auc = roc_auc_score(df_hold_out['target'].values, preds)\n",
    "os.mknod(join(MODELS_DIR, exp_name, f'roc-auc:{hold_out_auc:.4f}'))\n",
    "print(f'\\nROC AUC on hold-out set: {hold_out_auc:.4f}')\n",
    "torch.cuda.empty_cache()\n",
    "gc.collect()"
   ]
  }
 ],
 "metadata": {
  "kernelspec": {
   "display_name": "Python 3",
   "language": "python",
   "name": "python3"
  },
  "language_info": {
   "codemirror_mode": {
    "name": "ipython",
    "version": 3
   },
   "file_extension": ".py",
   "mimetype": "text/x-python",
   "name": "python",
   "nbconvert_exporter": "python",
   "pygments_lexer": "ipython3",
   "version": "3.7.4"
  },
  "widgets": {
   "application/vnd.jupyter.widget-state+json": {
    "state": {
     "28bf3d8c83214b3c86c7ecea74589c30": {
      "model_module": "@jupyter-widgets/controls",
      "model_module_version": "1.5.0",
      "model_name": "ProgressStyleModel",
      "state": {
       "_model_module": "@jupyter-widgets/controls",
       "_model_module_version": "1.5.0",
       "_model_name": "ProgressStyleModel",
       "_view_count": null,
       "_view_module": "@jupyter-widgets/base",
       "_view_module_version": "1.2.0",
       "_view_name": "StyleView",
       "bar_color": null,
       "description_width": "initial"
      }
     },
     "31b64ebb372e43abba66ea1cd063718e": {
      "model_module": "@jupyter-widgets/base",
      "model_module_version": "1.2.0",
      "model_name": "LayoutModel",
      "state": {
       "_model_module": "@jupyter-widgets/base",
       "_model_module_version": "1.2.0",
       "_model_name": "LayoutModel",
       "_view_count": null,
       "_view_module": "@jupyter-widgets/base",
       "_view_module_version": "1.2.0",
       "_view_name": "LayoutView",
       "align_content": null,
       "align_items": null,
       "align_self": null,
       "border": null,
       "bottom": null,
       "display": null,
       "flex": null,
       "flex_flow": null,
       "grid_area": null,
       "grid_auto_columns": null,
       "grid_auto_flow": null,
       "grid_auto_rows": null,
       "grid_column": null,
       "grid_gap": null,
       "grid_row": null,
       "grid_template_areas": null,
       "grid_template_columns": null,
       "grid_template_rows": null,
       "height": null,
       "justify_content": null,
       "justify_items": null,
       "left": null,
       "margin": null,
       "max_height": null,
       "max_width": null,
       "min_height": null,
       "min_width": null,
       "object_fit": null,
       "object_position": null,
       "order": null,
       "overflow": null,
       "overflow_x": null,
       "overflow_y": null,
       "padding": null,
       "right": null,
       "top": null,
       "visibility": null,
       "width": null
      }
     },
     "5a90c692bbf744dcb101fd9f1ece70cb": {
      "model_module": "@jupyter-widgets/base",
      "model_module_version": "1.2.0",
      "model_name": "LayoutModel",
      "state": {
       "_model_module": "@jupyter-widgets/base",
       "_model_module_version": "1.2.0",
       "_model_name": "LayoutModel",
       "_view_count": null,
       "_view_module": "@jupyter-widgets/base",
       "_view_module_version": "1.2.0",
       "_view_name": "LayoutView",
       "align_content": null,
       "align_items": null,
       "align_self": null,
       "border": null,
       "bottom": null,
       "display": null,
       "flex": null,
       "flex_flow": null,
       "grid_area": null,
       "grid_auto_columns": null,
       "grid_auto_flow": null,
       "grid_auto_rows": null,
       "grid_column": null,
       "grid_gap": null,
       "grid_row": null,
       "grid_template_areas": null,
       "grid_template_columns": null,
       "grid_template_rows": null,
       "height": null,
       "justify_content": null,
       "justify_items": null,
       "left": null,
       "margin": null,
       "max_height": null,
       "max_width": null,
       "min_height": null,
       "min_width": null,
       "object_fit": null,
       "object_position": null,
       "order": null,
       "overflow": null,
       "overflow_x": null,
       "overflow_y": null,
       "padding": null,
       "right": null,
       "top": null,
       "visibility": null,
       "width": null
      }
     },
     "80b56de96d6a4e34b62ad0cbb9ae512d": {
      "model_module": "@jupyter-widgets/controls",
      "model_module_version": "1.5.0",
      "model_name": "DescriptionStyleModel",
      "state": {
       "_model_module": "@jupyter-widgets/controls",
       "_model_module_version": "1.5.0",
       "_model_name": "DescriptionStyleModel",
       "_view_count": null,
       "_view_module": "@jupyter-widgets/base",
       "_view_module_version": "1.2.0",
       "_view_name": "StyleView",
       "description_width": ""
      }
     },
     "b3fcbccd37c94a1f887fce90319150f1": {
      "model_module": "@jupyter-widgets/controls",
      "model_module_version": "1.5.0",
      "model_name": "FloatProgressModel",
      "state": {
       "_dom_classes": [],
       "_model_module": "@jupyter-widgets/controls",
       "_model_module_version": "1.5.0",
       "_model_name": "FloatProgressModel",
       "_view_count": null,
       "_view_module": "@jupyter-widgets/controls",
       "_view_module_version": "1.5.0",
       "_view_name": "ProgressView",
       "bar_style": "success",
       "description": "100%",
       "description_tooltip": null,
       "layout": "IPY_MODEL_bc39ba5586bc4afa82c1daebaa5e1897",
       "max": 21388428,
       "min": 0,
       "orientation": "horizontal",
       "style": "IPY_MODEL_28bf3d8c83214b3c86c7ecea74589c30",
       "value": 21388428
      }
     },
     "bc39ba5586bc4afa82c1daebaa5e1897": {
      "model_module": "@jupyter-widgets/base",
      "model_module_version": "1.2.0",
      "model_name": "LayoutModel",
      "state": {
       "_model_module": "@jupyter-widgets/base",
       "_model_module_version": "1.2.0",
       "_model_name": "LayoutModel",
       "_view_count": null,
       "_view_module": "@jupyter-widgets/base",
       "_view_module_version": "1.2.0",
       "_view_name": "LayoutView",
       "align_content": null,
       "align_items": null,
       "align_self": null,
       "border": null,
       "bottom": null,
       "display": null,
       "flex": null,
       "flex_flow": null,
       "grid_area": null,
       "grid_auto_columns": null,
       "grid_auto_flow": null,
       "grid_auto_rows": null,
       "grid_column": null,
       "grid_gap": null,
       "grid_row": null,
       "grid_template_areas": null,
       "grid_template_columns": null,
       "grid_template_rows": null,
       "height": null,
       "justify_content": null,
       "justify_items": null,
       "left": null,
       "margin": null,
       "max_height": null,
       "max_width": null,
       "min_height": null,
       "min_width": null,
       "object_fit": null,
       "object_position": null,
       "order": null,
       "overflow": null,
       "overflow_x": null,
       "overflow_y": null,
       "padding": null,
       "right": null,
       "top": null,
       "visibility": null,
       "width": null
      }
     },
     "d61ac2450c694e598f76baf768ae215e": {
      "model_module": "@jupyter-widgets/controls",
      "model_module_version": "1.5.0",
      "model_name": "HBoxModel",
      "state": {
       "_dom_classes": [],
       "_model_module": "@jupyter-widgets/controls",
       "_model_module_version": "1.5.0",
       "_model_name": "HBoxModel",
       "_view_count": null,
       "_view_module": "@jupyter-widgets/controls",
       "_view_module_version": "1.5.0",
       "_view_name": "HBoxView",
       "box_style": "",
       "children": [
        "IPY_MODEL_b3fcbccd37c94a1f887fce90319150f1",
        "IPY_MODEL_e4b38464feec4f56b5ff8899e4545252"
       ],
       "layout": "IPY_MODEL_31b64ebb372e43abba66ea1cd063718e"
      }
     },
     "e4b38464feec4f56b5ff8899e4545252": {
      "model_module": "@jupyter-widgets/controls",
      "model_module_version": "1.5.0",
      "model_name": "HTMLModel",
      "state": {
       "_dom_classes": [],
       "_model_module": "@jupyter-widgets/controls",
       "_model_module_version": "1.5.0",
       "_model_name": "HTMLModel",
       "_view_count": null,
       "_view_module": "@jupyter-widgets/controls",
       "_view_module_version": "1.5.0",
       "_view_name": "HTMLView",
       "description": "",
       "description_tooltip": null,
       "layout": "IPY_MODEL_5a90c692bbf744dcb101fd9f1ece70cb",
       "placeholder": "​",
       "style": "IPY_MODEL_80b56de96d6a4e34b62ad0cbb9ae512d",
       "value": " 20.4M/20.4M [00:00&lt;00:00, 23.3MB/s]"
      }
     }
    },
    "version_major": 2,
    "version_minor": 0
   }
  }
 },
 "nbformat": 4,
 "nbformat_minor": 4
}
