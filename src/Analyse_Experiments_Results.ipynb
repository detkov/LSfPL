{
 "cells": [
  {
   "cell_type": "code",
   "execution_count": 1,
   "metadata": {},
   "outputs": [],
   "source": [
    "from os.path import join, basename, dirname, abspath\n",
    "import os\n",
    "from glob import glob\n",
    "import pandas as pd\n",
    "import numpy as np"
   ]
  },
  {
   "cell_type": "code",
   "execution_count": 2,
   "metadata": {},
   "outputs": [],
   "source": [
    "MODELS_DIR = '../models/'"
   ]
  },
  {
   "cell_type": "code",
   "execution_count": 3,
   "metadata": {},
   "outputs": [],
   "source": [
    "results = [[*x.split('/')[-2].split('-'), basename(x).split(':')[1]] \n",
    "           for x in glob(join(MODELS_DIR, '*folds*/roc-auc:*'))]\n",
    "\n",
    "results = [[result[0][:12], result[0][13:], result[1], result[2][0], \n",
    "            result[2][2:-5].rstrip('_'), result[2][-5:].lstrip('_'), result[3]] \n",
    "            for result in results]\n",
    "\n",
    "results.extend([['exp_train_02', np.nan, np.nan, np.nan, np.nan, np.nan, '0.8263'], \n",
    "                ['exp_train_03', np.nan, np.nan, np.nan, np.nan, np.nan, '0.7252'], \n",
    "                ['exp_train_04', np.nan, np.nan, np.nan, np.nan, np.nan, '0.8620'], \n",
    "                ['exp_train_05', np.nan, np.nan, np.nan, np.nan, np.nan, '0.8892'], \n",
    "                ['exp_train_06', np.nan, np.nan, np.nan, np.nan, np.nan, '0.9040'], \n",
    "                ['exp_train_07', np.nan, np.nan, np.nan, np.nan, np.nan, '0.8529']])"
   ]
  },
  {
   "cell_type": "code",
   "execution_count": 4,
   "metadata": {},
   "outputs": [
    {
     "name": "stdout",
     "output_type": "stream",
     "text": [
      "(111, 7)\n"
     ]
    },
    {
     "data": {
      "text/html": [
       "<div>\n",
       "<style scoped>\n",
       "    .dataframe tbody tr th:only-of-type {\n",
       "        vertical-align: middle;\n",
       "    }\n",
       "\n",
       "    .dataframe tbody tr th {\n",
       "        vertical-align: top;\n",
       "    }\n",
       "\n",
       "    .dataframe thead th {\n",
       "        text-align: right;\n",
       "    }\n",
       "</style>\n",
       "<table border=\"1\" class=\"dataframe\">\n",
       "  <thead>\n",
       "    <tr style=\"text-align: right;\">\n",
       "      <th></th>\n",
       "      <th>Experiment</th>\n",
       "      <th>Pseudo Label Type</th>\n",
       "      <th>Pct</th>\n",
       "      <th>Smooth Func Code</th>\n",
       "      <th>Folds</th>\n",
       "      <th>Fine-Tune Only Last Layer</th>\n",
       "      <th>Hold-Out AUC-ROC</th>\n",
       "    </tr>\n",
       "  </thead>\n",
       "  <tbody>\n",
       "    <tr>\n",
       "      <th>71</th>\n",
       "      <td>exp_train_02</td>\n",
       "      <td>rnd_undspml</td>\n",
       "      <td>80</td>\n",
       "      <td>1</td>\n",
       "      <td>folds_stratified</td>\n",
       "      <td>false</td>\n",
       "      <td>0.7837</td>\n",
       "    </tr>\n",
       "    <tr>\n",
       "      <th>13</th>\n",
       "      <td>exp_train_02</td>\n",
       "      <td>rnd_undspml</td>\n",
       "      <td>80</td>\n",
       "      <td>6</td>\n",
       "      <td>folds_stratified</td>\n",
       "      <td>false</td>\n",
       "      <td>0.7612</td>\n",
       "    </tr>\n",
       "    <tr>\n",
       "      <th>2</th>\n",
       "      <td>exp_train_02</td>\n",
       "      <td>rdf_bnd</td>\n",
       "      <td>50</td>\n",
       "      <td>4</td>\n",
       "      <td>folds_stratified</td>\n",
       "      <td>false</td>\n",
       "      <td>0.8153</td>\n",
       "    </tr>\n",
       "    <tr>\n",
       "      <th>95</th>\n",
       "      <td>exp_train_02</td>\n",
       "      <td>rdf_bnd</td>\n",
       "      <td>100</td>\n",
       "      <td>2</td>\n",
       "      <td>folds_stratified</td>\n",
       "      <td>true</td>\n",
       "      <td>0.8129</td>\n",
       "    </tr>\n",
       "    <tr>\n",
       "      <th>40</th>\n",
       "      <td>exp_train_02</td>\n",
       "      <td>rdf_bnd</td>\n",
       "      <td>100</td>\n",
       "      <td>4</td>\n",
       "      <td>folds_stratified</td>\n",
       "      <td>true</td>\n",
       "      <td>0.8307</td>\n",
       "    </tr>\n",
       "  </tbody>\n",
       "</table>\n",
       "</div>"
      ],
      "text/plain": [
       "      Experiment Pseudo Label Type  Pct Smooth Func Code             Folds  \\\n",
       "71  exp_train_02       rnd_undspml   80                1  folds_stratified   \n",
       "13  exp_train_02       rnd_undspml   80                6  folds_stratified   \n",
       "2   exp_train_02           rdf_bnd   50                4  folds_stratified   \n",
       "95  exp_train_02           rdf_bnd  100                2  folds_stratified   \n",
       "40  exp_train_02           rdf_bnd  100                4  folds_stratified   \n",
       "\n",
       "   Fine-Tune Only Last Layer  Hold-Out AUC-ROC  \n",
       "71                     false            0.7837  \n",
       "13                     false            0.7612  \n",
       "2                      false            0.8153  \n",
       "95                      true            0.8129  \n",
       "40                      true            0.8307  "
      ]
     },
     "execution_count": 4,
     "metadata": {},
     "output_type": "execute_result"
    }
   ],
   "source": [
    "results_df = pd.DataFrame(results, \n",
    "                          columns=['Experiment', 'Pseudo Label Type', 'Pct', 'Smooth Func Code', \n",
    "                                   'Folds', 'Fine-Tune Only Last Layer', 'Hold-Out AUC-ROC'])\n",
    "results_df['Hold-Out AUC-ROC'] = results_df['Hold-Out AUC-ROC'].apply(float)\n",
    "print(results_df.shape)\n",
    "results_df.sample(5)"
   ]
  },
  {
   "cell_type": "code",
   "execution_count": 5,
   "metadata": {},
   "outputs": [
    {
     "name": "stdout",
     "output_type": "stream",
     "text": [
      "(106, 7)\n"
     ]
    }
   ],
   "source": [
    "results_df.to_csv('../input/experiment_results.csv', index=False)\n",
    "results_df = results_df[results_df['Experiment'].apply(lambda x: 'exp_train_02' in x)]\n",
    "print(results_df.shape)"
   ]
  },
  {
   "cell_type": "code",
   "execution_count": 6,
   "metadata": {},
   "outputs": [
    {
     "data": {
      "text/html": [
       "<div>\n",
       "<style scoped>\n",
       "    .dataframe tbody tr th:only-of-type {\n",
       "        vertical-align: middle;\n",
       "    }\n",
       "\n",
       "    .dataframe tbody tr th {\n",
       "        vertical-align: top;\n",
       "    }\n",
       "\n",
       "    .dataframe thead th {\n",
       "        text-align: right;\n",
       "    }\n",
       "</style>\n",
       "<table border=\"1\" class=\"dataframe\">\n",
       "  <thead>\n",
       "    <tr style=\"text-align: right;\">\n",
       "      <th></th>\n",
       "      <th>Experiment</th>\n",
       "      <th>Pseudo Label Type</th>\n",
       "      <th>Pct</th>\n",
       "      <th>Smooth Func Code</th>\n",
       "      <th>Folds</th>\n",
       "      <th>Fine-Tune Only Last Layer</th>\n",
       "      <th>Hold-Out AUC-ROC</th>\n",
       "    </tr>\n",
       "  </thead>\n",
       "  <tbody>\n",
       "    <tr>\n",
       "      <th>105</th>\n",
       "      <td>exp_train_02</td>\n",
       "      <td>NaN</td>\n",
       "      <td>NaN</td>\n",
       "      <td>NaN</td>\n",
       "      <td>NaN</td>\n",
       "      <td>NaN</td>\n",
       "      <td>0.8263</td>\n",
       "    </tr>\n",
       "  </tbody>\n",
       "</table>\n",
       "</div>"
      ],
      "text/plain": [
       "       Experiment Pseudo Label Type  Pct Smooth Func Code Folds  \\\n",
       "105  exp_train_02               NaN  NaN              NaN   NaN   \n",
       "\n",
       "    Fine-Tune Only Last Layer  Hold-Out AUC-ROC  \n",
       "105                       NaN            0.8263  "
      ]
     },
     "execution_count": 6,
     "metadata": {},
     "output_type": "execute_result"
    }
   ],
   "source": [
    "results_df[pd.isna(results_df['Pseudo Label Type'])]"
   ]
  },
  {
   "cell_type": "code",
   "execution_count": 7,
   "metadata": {},
   "outputs": [
    {
     "data": {
      "text/html": [
       "<div>\n",
       "<style scoped>\n",
       "    .dataframe tbody tr th:only-of-type {\n",
       "        vertical-align: middle;\n",
       "    }\n",
       "\n",
       "    .dataframe tbody tr th {\n",
       "        vertical-align: top;\n",
       "    }\n",
       "\n",
       "    .dataframe thead th {\n",
       "        text-align: right;\n",
       "    }\n",
       "</style>\n",
       "<table border=\"1\" class=\"dataframe\">\n",
       "  <thead>\n",
       "    <tr style=\"text-align: right;\">\n",
       "      <th></th>\n",
       "      <th>Experiment</th>\n",
       "      <th>Pseudo Label Type</th>\n",
       "      <th>Pct</th>\n",
       "      <th>Smooth Func Code</th>\n",
       "      <th>Folds</th>\n",
       "      <th>Fine-Tune Only Last Layer</th>\n",
       "      <th>Hold-Out AUC-ROC</th>\n",
       "    </tr>\n",
       "  </thead>\n",
       "  <tbody>\n",
       "    <tr>\n",
       "      <th>36</th>\n",
       "      <td>exp_train_02</td>\n",
       "      <td>rdf_bnd</td>\n",
       "      <td>100</td>\n",
       "      <td>1</td>\n",
       "      <td>folds_stratified</td>\n",
       "      <td>true</td>\n",
       "      <td>0.8313</td>\n",
       "    </tr>\n",
       "    <tr>\n",
       "      <th>48</th>\n",
       "      <td>exp_train_02</td>\n",
       "      <td>str_undspml</td>\n",
       "      <td>100</td>\n",
       "      <td>1</td>\n",
       "      <td>folds_stratified</td>\n",
       "      <td>true</td>\n",
       "      <td>0.8259</td>\n",
       "    </tr>\n",
       "    <tr>\n",
       "      <th>65</th>\n",
       "      <td>exp_train_02</td>\n",
       "      <td>rnd_undspml</td>\n",
       "      <td>100</td>\n",
       "      <td>1</td>\n",
       "      <td>folds_stratified</td>\n",
       "      <td>true</td>\n",
       "      <td>0.8387</td>\n",
       "    </tr>\n",
       "  </tbody>\n",
       "</table>\n",
       "</div>"
      ],
      "text/plain": [
       "      Experiment Pseudo Label Type  Pct Smooth Func Code             Folds  \\\n",
       "36  exp_train_02           rdf_bnd  100                1  folds_stratified   \n",
       "48  exp_train_02       str_undspml  100                1  folds_stratified   \n",
       "65  exp_train_02       rnd_undspml  100                1  folds_stratified   \n",
       "\n",
       "   Fine-Tune Only Last Layer  Hold-Out AUC-ROC  \n",
       "36                      true            0.8313  \n",
       "48                      true            0.8259  \n",
       "65                      true            0.8387  "
      ]
     },
     "execution_count": 7,
     "metadata": {},
     "output_type": "execute_result"
    }
   ],
   "source": [
    "results_df[(results_df['Pct'] == '100') & (results_df['Smooth Func Code'] == '1')]"
   ]
  },
  {
   "cell_type": "code",
   "execution_count": 8,
   "metadata": {},
   "outputs": [
    {
     "data": {
      "text/plain": [
       "Fine-Tune Only Last Layer\n",
       "false    0.771188\n",
       "true     0.833531\n",
       "Name: Hold-Out AUC-ROC, dtype: float64"
      ]
     },
     "execution_count": 8,
     "metadata": {},
     "output_type": "execute_result"
    }
   ],
   "source": [
    "results_df.groupby(['Fine-Tune Only Last Layer'])['Hold-Out AUC-ROC'].mean()"
   ]
  },
  {
   "cell_type": "code",
   "execution_count": 9,
   "metadata": {},
   "outputs": [],
   "source": [
    "results_df = results_df[results_df['Fine-Tune Only Last Layer'] == 'true']"
   ]
  },
  {
   "cell_type": "code",
   "execution_count": 10,
   "metadata": {},
   "outputs": [
    {
     "data": {
      "text/plain": [
       "Pseudo Label Type\n",
       "str_undspml    0.829139\n",
       "rnd_undspml    0.832778\n",
       "rdf_bnd        0.838678\n",
       "Name: Hold-Out AUC-ROC, dtype: float64"
      ]
     },
     "execution_count": 10,
     "metadata": {},
     "output_type": "execute_result"
    }
   ],
   "source": [
    "results_df.groupby(['Pseudo Label Type'])['Hold-Out AUC-ROC'].mean().sort_values()"
   ]
  },
  {
   "cell_type": "code",
   "execution_count": 11,
   "metadata": {},
   "outputs": [
    {
     "data": {
      "text/plain": [
       "Pct\n",
       "100    0.800089\n",
       "80     0.848506\n",
       "50     0.852000\n",
       "Name: Hold-Out AUC-ROC, dtype: float64"
      ]
     },
     "execution_count": 11,
     "metadata": {},
     "output_type": "execute_result"
    }
   ],
   "source": [
    "results_df.groupby(['Pct'])['Hold-Out AUC-ROC'].mean().sort_values()"
   ]
  },
  {
   "cell_type": "code",
   "execution_count": 12,
   "metadata": {},
   "outputs": [
    {
     "data": {
      "text/plain": [
       "Smooth Func Code\n",
       "6    0.827533\n",
       "2    0.828844\n",
       "5    0.831044\n",
       "3    0.834544\n",
       "4    0.835289\n",
       "1    0.843933\n",
       "Name: Hold-Out AUC-ROC, dtype: float64"
      ]
     },
     "execution_count": 12,
     "metadata": {},
     "output_type": "execute_result"
    }
   ],
   "source": [
    "results_df.groupby(['Smooth Func Code'])['Hold-Out AUC-ROC'].mean().sort_values()"
   ]
  }
 ],
 "metadata": {
  "kernelspec": {
   "display_name": "Python 3",
   "language": "python",
   "name": "python3"
  },
  "language_info": {
   "codemirror_mode": {
    "name": "ipython",
    "version": 3
   },
   "file_extension": ".py",
   "mimetype": "text/x-python",
   "name": "python",
   "nbconvert_exporter": "python",
   "pygments_lexer": "ipython3",
   "version": "3.7.4"
  }
 },
 "nbformat": 4,
 "nbformat_minor": 4
}
