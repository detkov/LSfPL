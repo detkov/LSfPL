{
 "cells": [
  {
   "cell_type": "code",
   "execution_count": 1,
   "metadata": {},
   "outputs": [],
   "source": [
    "from os.path import join, basename, dirname, abspath\n",
    "import os\n",
    "from glob import glob\n",
    "import pandas as pd\n",
    "import numpy as np"
   ]
  },
  {
   "cell_type": "code",
   "execution_count": 2,
   "metadata": {},
   "outputs": [],
   "source": [
    "MODELS_DIR = '../models/'"
   ]
  },
  {
   "cell_type": "code",
   "execution_count": 14,
   "metadata": {},
   "outputs": [],
   "source": [
    "results = [[*x.split('/')[-2].split('-'), basename(x).split(':')[1]] for x in glob(join(MODELS_DIR, '*folds*/roc-auc:*'))]\n",
    "results = [[result[0][:12], result[0][13:], result[1], result[2][0], result[2][2:-5].rstrip('_'), result[2][-5:].lstrip('_'), result[3]] \n",
    "            for result in results]\n",
    "results.extend([['exp_train_02', np.nan, np.nan, np.nan, np.nan, np.nan, '0.8263'], \n",
    "                ['exp_train_03', np.nan, np.nan, np.nan, np.nan, np.nan, '0.7252'], \n",
    "                ['exp_train_04', np.nan, np.nan, np.nan, np.nan, np.nan, '0.8620'], \n",
    "                ['exp_train_05', np.nan, np.nan, np.nan, np.nan, np.nan, '0.8892'], \n",
    "                ['exp_train_06', np.nan, np.nan, np.nan, np.nan, np.nan, '0.9040'], \n",
    "                ['exp_train_07', np.nan, np.nan, np.nan, np.nan, np.nan, '0.8529']])"
   ]
  },
  {
   "cell_type": "code",
   "execution_count": 22,
   "metadata": {},
   "outputs": [
    {
     "output_type": "execute_result",
     "data": {
      "text/plain": "      Experiment Pseudo Label Type  Pct Smooth Func Code             Folds  \\\n87  exp_train_02       rnd_undspml  100                4  folds_stratified   \n37  exp_train_02       rnd_undspml   80                3  folds_stratified   \n10  exp_train_02       rnd_undspml   80                4  folds_stratified   \n3   exp_train_02           rdf_bnd  100                4  folds_stratified   \n13  exp_train_02       rnd_undspml   80                6  folds_stratified   \n\n   Fine-Tune Only Last Layer  Hold-Out AUC-ROC  \n87                     false            0.7678  \n37                     false            0.7728  \n10                     false            0.6548  \n3                      false            0.7678  \n13                     false            0.7612  ",
      "text/html": "<div>\n<style scoped>\n    .dataframe tbody tr th:only-of-type {\n        vertical-align: middle;\n    }\n\n    .dataframe tbody tr th {\n        vertical-align: top;\n    }\n\n    .dataframe thead th {\n        text-align: right;\n    }\n</style>\n<table border=\"1\" class=\"dataframe\">\n  <thead>\n    <tr style=\"text-align: right;\">\n      <th></th>\n      <th>Experiment</th>\n      <th>Pseudo Label Type</th>\n      <th>Pct</th>\n      <th>Smooth Func Code</th>\n      <th>Folds</th>\n      <th>Fine-Tune Only Last Layer</th>\n      <th>Hold-Out AUC-ROC</th>\n    </tr>\n  </thead>\n  <tbody>\n    <tr>\n      <th>87</th>\n      <td>exp_train_02</td>\n      <td>rnd_undspml</td>\n      <td>100</td>\n      <td>4</td>\n      <td>folds_stratified</td>\n      <td>false</td>\n      <td>0.7678</td>\n    </tr>\n    <tr>\n      <th>37</th>\n      <td>exp_train_02</td>\n      <td>rnd_undspml</td>\n      <td>80</td>\n      <td>3</td>\n      <td>folds_stratified</td>\n      <td>false</td>\n      <td>0.7728</td>\n    </tr>\n    <tr>\n      <th>10</th>\n      <td>exp_train_02</td>\n      <td>rnd_undspml</td>\n      <td>80</td>\n      <td>4</td>\n      <td>folds_stratified</td>\n      <td>false</td>\n      <td>0.6548</td>\n    </tr>\n    <tr>\n      <th>3</th>\n      <td>exp_train_02</td>\n      <td>rdf_bnd</td>\n      <td>100</td>\n      <td>4</td>\n      <td>folds_stratified</td>\n      <td>false</td>\n      <td>0.7678</td>\n    </tr>\n    <tr>\n      <th>13</th>\n      <td>exp_train_02</td>\n      <td>rnd_undspml</td>\n      <td>80</td>\n      <td>6</td>\n      <td>folds_stratified</td>\n      <td>false</td>\n      <td>0.7612</td>\n    </tr>\n  </tbody>\n</table>\n</div>"
     },
     "metadata": {},
     "execution_count": 22
    }
   ],
   "source": [
    "results_df = pd.DataFrame(results, columns=['Experiment', 'Pseudo Label Type', 'Pct', 'Smooth Func Code', 'Folds', 'Fine-Tune Only Last Layer', 'Hold-Out AUC-ROC'])\n",
    "results_df['Hold-Out AUC-ROC'] = results_df['Hold-Out AUC-ROC'].apply(float)\n",
    "results_df.sample(5)"
   ]
  },
  {
   "cell_type": "code",
   "execution_count": 29,
   "metadata": {},
   "outputs": [],
   "source": [
    "results_df.to_csv('../input/experiment_results.csv', index=False)\n",
    "results_df = results_df[results_df['Experiment'].apply(lambda x: 'exp_train_02' in x)]"
   ]
  },
  {
   "cell_type": "code",
   "execution_count": 23,
   "metadata": {},
   "outputs": [
    {
     "output_type": "execute_result",
     "data": {
      "text/plain": "Pseudo Label Type\nrdf_bnd        0.816053\nrnd_undspml    0.794259\nstr_undspml    0.796906\nName: Hold-Out AUC-ROC, dtype: float64"
     },
     "metadata": {},
     "execution_count": 23
    }
   ],
   "source": [
    "results_df.groupby(['Pseudo Label Type'])['Hold-Out AUC-ROC'].mean()"
   ]
  },
  {
   "cell_type": "code",
   "execution_count": 24,
   "metadata": {},
   "outputs": [
    {
     "output_type": "execute_result",
     "data": {
      "text/plain": "Fine-Tune Only Last Layer\nfalse    0.771188\ntrue     0.833624\nName: Hold-Out AUC-ROC, dtype: float64"
     },
     "metadata": {},
     "execution_count": 24
    }
   ],
   "source": [
    "results_df.groupby(['Fine-Tune Only Last Layer'])['Hold-Out AUC-ROC'].mean()"
   ]
  },
  {
   "cell_type": "code",
   "execution_count": 25,
   "metadata": {},
   "outputs": [
    {
     "output_type": "execute_result",
     "data": {
      "text/plain": "Pseudo Label Type  Pct\nrdf_bnd            100    0.793260\n                   50     0.826050\n                   80     0.825050\nrnd_undspml        100    0.754330\n                   50     0.820483\n                   80     0.801308\nstr_undspml        100    0.752820\n                   50     0.812542\n                   80     0.818008\nName: Hold-Out AUC-ROC, dtype: float64"
     },
     "metadata": {},
     "execution_count": 25
    }
   ],
   "source": [
    "results_df.groupby(['Pseudo Label Type', 'Pct'])['Hold-Out AUC-ROC'].mean()"
   ]
  },
  {
   "cell_type": "code",
   "execution_count": 26,
   "metadata": {},
   "outputs": [
    {
     "output_type": "execute_result",
     "data": {
      "text/plain": "Pseudo Label Type  Smooth Func Code\nrdf_bnd            1                   0.827300\n                   2                   0.817350\n                   3                   0.818250\n                   4                   0.820467\n                   5                   0.821583\n                   6                   0.795117\nrnd_undspml        1                   0.819525\n                   2                   0.809700\n                   3                   0.790050\n                   4                   0.782167\n                   5                   0.792333\n                   6                   0.780200\nstr_undspml        1                   0.807400\n                   2                   0.799867\n                   3                   0.804967\n                   4                   0.806950\n                   5                   0.799633\n                   6                   0.766117\nName: Hold-Out AUC-ROC, dtype: float64"
     },
     "metadata": {},
     "execution_count": 26
    }
   ],
   "source": [
    "results_df.groupby(['Pseudo Label Type', 'Smooth Func Code'])['Hold-Out AUC-ROC'].mean()"
   ]
  },
  {
   "cell_type": "code",
   "execution_count": 27,
   "metadata": {},
   "outputs": [
    {
     "output_type": "execute_result",
     "data": {
      "text/plain": "    index    Experiment Pseudo Label Type Pct Smooth Func Code  \\\n0      30  exp_train_02           rdf_bnd  50                1   \n1      55  exp_train_02       rnd_undspml  50                4   \n2      51  exp_train_02       rnd_undspml  50                5   \n3      54  exp_train_02       str_undspml  50                5   \n4      79  exp_train_02       rnd_undspml  50                3   \n5      74  exp_train_02       str_undspml  50                4   \n6      73  exp_train_02       str_undspml  50                3   \n7      63  exp_train_02       str_undspml  80                4   \n8      21  exp_train_02       rnd_undspml  50                6   \n9      23  exp_train_02       str_undspml  50                2   \n10     91  exp_train_02       rnd_undspml  50                1   \n\n               Folds Fine-Tune Only Last Layer  Hold-Out AUC-ROC  \n0   folds_stratified                      true            0.8550  \n1   folds_stratified                      true            0.8541  \n2   folds_stratified                      true            0.8539  \n3   folds_stratified                      true            0.8538  \n4   folds_stratified                      true            0.8538  \n5   folds_stratified                      true            0.8536  \n6   folds_stratified                      true            0.8535  \n7   folds_stratified                      true            0.8535  \n8   folds_stratified                      true            0.8533  \n9   folds_stratified                      true            0.8533  \n10  folds_stratified                      true            0.8533  ",
      "text/html": "<div>\n<style scoped>\n    .dataframe tbody tr th:only-of-type {\n        vertical-align: middle;\n    }\n\n    .dataframe tbody tr th {\n        vertical-align: top;\n    }\n\n    .dataframe thead th {\n        text-align: right;\n    }\n</style>\n<table border=\"1\" class=\"dataframe\">\n  <thead>\n    <tr style=\"text-align: right;\">\n      <th></th>\n      <th>index</th>\n      <th>Experiment</th>\n      <th>Pseudo Label Type</th>\n      <th>Pct</th>\n      <th>Smooth Func Code</th>\n      <th>Folds</th>\n      <th>Fine-Tune Only Last Layer</th>\n      <th>Hold-Out AUC-ROC</th>\n    </tr>\n  </thead>\n  <tbody>\n    <tr>\n      <th>0</th>\n      <td>30</td>\n      <td>exp_train_02</td>\n      <td>rdf_bnd</td>\n      <td>50</td>\n      <td>1</td>\n      <td>folds_stratified</td>\n      <td>true</td>\n      <td>0.8550</td>\n    </tr>\n    <tr>\n      <th>1</th>\n      <td>55</td>\n      <td>exp_train_02</td>\n      <td>rnd_undspml</td>\n      <td>50</td>\n      <td>4</td>\n      <td>folds_stratified</td>\n      <td>true</td>\n      <td>0.8541</td>\n    </tr>\n    <tr>\n      <th>2</th>\n      <td>51</td>\n      <td>exp_train_02</td>\n      <td>rnd_undspml</td>\n      <td>50</td>\n      <td>5</td>\n      <td>folds_stratified</td>\n      <td>true</td>\n      <td>0.8539</td>\n    </tr>\n    <tr>\n      <th>3</th>\n      <td>54</td>\n      <td>exp_train_02</td>\n      <td>str_undspml</td>\n      <td>50</td>\n      <td>5</td>\n      <td>folds_stratified</td>\n      <td>true</td>\n      <td>0.8538</td>\n    </tr>\n    <tr>\n      <th>4</th>\n      <td>79</td>\n      <td>exp_train_02</td>\n      <td>rnd_undspml</td>\n      <td>50</td>\n      <td>3</td>\n      <td>folds_stratified</td>\n      <td>true</td>\n      <td>0.8538</td>\n    </tr>\n    <tr>\n      <th>5</th>\n      <td>74</td>\n      <td>exp_train_02</td>\n      <td>str_undspml</td>\n      <td>50</td>\n      <td>4</td>\n      <td>folds_stratified</td>\n      <td>true</td>\n      <td>0.8536</td>\n    </tr>\n    <tr>\n      <th>6</th>\n      <td>73</td>\n      <td>exp_train_02</td>\n      <td>str_undspml</td>\n      <td>50</td>\n      <td>3</td>\n      <td>folds_stratified</td>\n      <td>true</td>\n      <td>0.8535</td>\n    </tr>\n    <tr>\n      <th>7</th>\n      <td>63</td>\n      <td>exp_train_02</td>\n      <td>str_undspml</td>\n      <td>80</td>\n      <td>4</td>\n      <td>folds_stratified</td>\n      <td>true</td>\n      <td>0.8535</td>\n    </tr>\n    <tr>\n      <th>8</th>\n      <td>21</td>\n      <td>exp_train_02</td>\n      <td>rnd_undspml</td>\n      <td>50</td>\n      <td>6</td>\n      <td>folds_stratified</td>\n      <td>true</td>\n      <td>0.8533</td>\n    </tr>\n    <tr>\n      <th>9</th>\n      <td>23</td>\n      <td>exp_train_02</td>\n      <td>str_undspml</td>\n      <td>50</td>\n      <td>2</td>\n      <td>folds_stratified</td>\n      <td>true</td>\n      <td>0.8533</td>\n    </tr>\n    <tr>\n      <th>10</th>\n      <td>91</td>\n      <td>exp_train_02</td>\n      <td>rnd_undspml</td>\n      <td>50</td>\n      <td>1</td>\n      <td>folds_stratified</td>\n      <td>true</td>\n      <td>0.8533</td>\n    </tr>\n  </tbody>\n</table>\n</div>"
     },
     "metadata": {},
     "execution_count": 27
    }
   ],
   "source": [
    "results_df.sort_values('Hold-Out AUC-ROC', ascending=False).reset_index().loc[:10]"
   ]
  },
  {
   "cell_type": "code",
   "execution_count": 28,
   "metadata": {},
   "outputs": [
    {
     "output_type": "execute_result",
     "data": {
      "text/plain": "    index    Experiment Pseudo Label Type  Pct Smooth Func Code  \\\n0      70  exp_train_02       str_undspml  100                6   \n1      27  exp_train_02       rnd_undspml  100                6   \n2      10  exp_train_02       rnd_undspml   80                4   \n3      90  exp_train_02       rnd_undspml  100                3   \n4      76  exp_train_02           rdf_bnd  100                6   \n5      81  exp_train_02       rnd_undspml  100                5   \n6      56  exp_train_02       str_undspml   50                1   \n7      13  exp_train_02       rnd_undspml   80                6   \n8      82  exp_train_02       str_undspml   50                6   \n9      99  exp_train_02       str_undspml   80                5   \n10     83  exp_train_02       str_undspml  100                4   \n\n               Folds Fine-Tune Only Last Layer  Hold-Out AUC-ROC  \n0   folds_stratified                     false            0.5725  \n1   folds_stratified                     false            0.6426  \n2   folds_stratified                     false            0.6548  \n3   folds_stratified                     false            0.6907  \n4   folds_stratified                     false            0.6946  \n5   folds_stratified                     false            0.7221  \n6   folds_stratified                     false            0.7267  \n7   folds_stratified                     false            0.7612  \n8   folds_stratified                     false            0.7623  \n9   folds_stratified                     false            0.7623  \n10  folds_stratified                     false            0.7662  ",
      "text/html": "<div>\n<style scoped>\n    .dataframe tbody tr th:only-of-type {\n        vertical-align: middle;\n    }\n\n    .dataframe tbody tr th {\n        vertical-align: top;\n    }\n\n    .dataframe thead th {\n        text-align: right;\n    }\n</style>\n<table border=\"1\" class=\"dataframe\">\n  <thead>\n    <tr style=\"text-align: right;\">\n      <th></th>\n      <th>index</th>\n      <th>Experiment</th>\n      <th>Pseudo Label Type</th>\n      <th>Pct</th>\n      <th>Smooth Func Code</th>\n      <th>Folds</th>\n      <th>Fine-Tune Only Last Layer</th>\n      <th>Hold-Out AUC-ROC</th>\n    </tr>\n  </thead>\n  <tbody>\n    <tr>\n      <th>0</th>\n      <td>70</td>\n      <td>exp_train_02</td>\n      <td>str_undspml</td>\n      <td>100</td>\n      <td>6</td>\n      <td>folds_stratified</td>\n      <td>false</td>\n      <td>0.5725</td>\n    </tr>\n    <tr>\n      <th>1</th>\n      <td>27</td>\n      <td>exp_train_02</td>\n      <td>rnd_undspml</td>\n      <td>100</td>\n      <td>6</td>\n      <td>folds_stratified</td>\n      <td>false</td>\n      <td>0.6426</td>\n    </tr>\n    <tr>\n      <th>2</th>\n      <td>10</td>\n      <td>exp_train_02</td>\n      <td>rnd_undspml</td>\n      <td>80</td>\n      <td>4</td>\n      <td>folds_stratified</td>\n      <td>false</td>\n      <td>0.6548</td>\n    </tr>\n    <tr>\n      <th>3</th>\n      <td>90</td>\n      <td>exp_train_02</td>\n      <td>rnd_undspml</td>\n      <td>100</td>\n      <td>3</td>\n      <td>folds_stratified</td>\n      <td>false</td>\n      <td>0.6907</td>\n    </tr>\n    <tr>\n      <th>4</th>\n      <td>76</td>\n      <td>exp_train_02</td>\n      <td>rdf_bnd</td>\n      <td>100</td>\n      <td>6</td>\n      <td>folds_stratified</td>\n      <td>false</td>\n      <td>0.6946</td>\n    </tr>\n    <tr>\n      <th>5</th>\n      <td>81</td>\n      <td>exp_train_02</td>\n      <td>rnd_undspml</td>\n      <td>100</td>\n      <td>5</td>\n      <td>folds_stratified</td>\n      <td>false</td>\n      <td>0.7221</td>\n    </tr>\n    <tr>\n      <th>6</th>\n      <td>56</td>\n      <td>exp_train_02</td>\n      <td>str_undspml</td>\n      <td>50</td>\n      <td>1</td>\n      <td>folds_stratified</td>\n      <td>false</td>\n      <td>0.7267</td>\n    </tr>\n    <tr>\n      <th>7</th>\n      <td>13</td>\n      <td>exp_train_02</td>\n      <td>rnd_undspml</td>\n      <td>80</td>\n      <td>6</td>\n      <td>folds_stratified</td>\n      <td>false</td>\n      <td>0.7612</td>\n    </tr>\n    <tr>\n      <th>8</th>\n      <td>82</td>\n      <td>exp_train_02</td>\n      <td>str_undspml</td>\n      <td>50</td>\n      <td>6</td>\n      <td>folds_stratified</td>\n      <td>false</td>\n      <td>0.7623</td>\n    </tr>\n    <tr>\n      <th>9</th>\n      <td>99</td>\n      <td>exp_train_02</td>\n      <td>str_undspml</td>\n      <td>80</td>\n      <td>5</td>\n      <td>folds_stratified</td>\n      <td>false</td>\n      <td>0.7623</td>\n    </tr>\n    <tr>\n      <th>10</th>\n      <td>83</td>\n      <td>exp_train_02</td>\n      <td>str_undspml</td>\n      <td>100</td>\n      <td>4</td>\n      <td>folds_stratified</td>\n      <td>false</td>\n      <td>0.7662</td>\n    </tr>\n  </tbody>\n</table>\n</div>"
     },
     "metadata": {},
     "execution_count": 28
    }
   ],
   "source": [
    "results_df.sort_values('Hold-Out AUC-ROC', ascending=True).reset_index().loc[:10]"
   ]
  },
  {
   "cell_type": "code",
   "execution_count": null,
   "metadata": {},
   "outputs": [],
   "source": []
  }
 ],
 "metadata": {
  "kernelspec": {
   "display_name": "Python 3",
   "language": "python",
   "name": "python3"
  },
  "language_info": {
   "codemirror_mode": {
    "name": "ipython",
    "version": 3
   },
   "file_extension": ".py",
   "mimetype": "text/x-python",
   "name": "python",
   "nbconvert_exporter": "python",
   "pygments_lexer": "ipython3",
   "version": "3.7.4-final"
  }
 },
 "nbformat": 4,
 "nbformat_minor": 4
}