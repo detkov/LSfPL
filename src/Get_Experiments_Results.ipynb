{
 "cells": [
  {
   "cell_type": "code",
   "execution_count": 1,
   "metadata": {},
   "outputs": [],
   "source": [
    "from os.path import join, basename, dirname, abspath\n",
    "import os\n",
    "from glob import glob\n",
    "import pandas as pd\n",
    "import numpy as np"
   ]
  },
  {
   "cell_type": "code",
   "execution_count": 2,
   "metadata": {},
   "outputs": [],
   "source": [
    "MODELS_DIR = '../models/'"
   ]
  },
  {
   "cell_type": "code",
   "execution_count": 3,
   "metadata": {},
   "outputs": [],
   "source": [
    "results = [[*x.split('/')[-2].split('-'), basename(x).split(':')[1]] for x in glob(join(MODELS_DIR, '*folds*/roc-auc:*'))]\n",
    "results = [[result[0][:12], result[0][13:], result[1], result[2][0], result[2][2:-5].rstrip('_'), result[2][-5:].lstrip('_'), result[3]] \n",
    "            for result in results]\n",
    "results.extend([['exp_train_02', np.nan, np.nan, np.nan, np.nan, np.nan, '0.8263'], \n",
    "                ['exp_train_03', np.nan, np.nan, np.nan, np.nan, np.nan, '0.7252'], \n",
    "                ['exp_train_04', np.nan, np.nan, np.nan, np.nan, np.nan, '0.8620'], \n",
    "                ['exp_train_05', np.nan, np.nan, np.nan, np.nan, np.nan, '0.8892'], \n",
    "                ['exp_train_06', np.nan, np.nan, np.nan, np.nan, np.nan, '0.9040'], \n",
    "                ['exp_train_07', np.nan, np.nan, np.nan, np.nan, np.nan, '0.8529']])"
   ]
  },
  {
   "cell_type": "code",
   "execution_count": 20,
   "metadata": {},
   "outputs": [
    {
     "output_type": "stream",
     "name": "stdout",
     "text": "(111, 7)\n"
    },
    {
     "output_type": "execute_result",
     "data": {
      "text/plain": "      Experiment Pseudo Label Type  Pct Smooth Func Code             Folds  \\\n5   exp_train_02       str_undspml   80                2  folds_stratified   \n50  exp_train_02       str_undspml   50                5  folds_stratified   \n42  exp_train_02       str_undspml   50                5  folds_stratified   \n26  exp_train_02           rdf_bnd   80                3  folds_stratified   \n16  exp_train_02       str_undspml  100                6  folds_stratified   \n\n   Fine-Tune Only Last Layer  Hold-Out AUC-ROC  \n5                      false            0.7711  \n50                     false            0.7825  \n42                      true            0.8538  \n26                     false            0.7835  \n16                     false            0.5725  ",
      "text/html": "<div>\n<style scoped>\n    .dataframe tbody tr th:only-of-type {\n        vertical-align: middle;\n    }\n\n    .dataframe tbody tr th {\n        vertical-align: top;\n    }\n\n    .dataframe thead th {\n        text-align: right;\n    }\n</style>\n<table border=\"1\" class=\"dataframe\">\n  <thead>\n    <tr style=\"text-align: right;\">\n      <th></th>\n      <th>Experiment</th>\n      <th>Pseudo Label Type</th>\n      <th>Pct</th>\n      <th>Smooth Func Code</th>\n      <th>Folds</th>\n      <th>Fine-Tune Only Last Layer</th>\n      <th>Hold-Out AUC-ROC</th>\n    </tr>\n  </thead>\n  <tbody>\n    <tr>\n      <th>5</th>\n      <td>exp_train_02</td>\n      <td>str_undspml</td>\n      <td>80</td>\n      <td>2</td>\n      <td>folds_stratified</td>\n      <td>false</td>\n      <td>0.7711</td>\n    </tr>\n    <tr>\n      <th>50</th>\n      <td>exp_train_02</td>\n      <td>str_undspml</td>\n      <td>50</td>\n      <td>5</td>\n      <td>folds_stratified</td>\n      <td>false</td>\n      <td>0.7825</td>\n    </tr>\n    <tr>\n      <th>42</th>\n      <td>exp_train_02</td>\n      <td>str_undspml</td>\n      <td>50</td>\n      <td>5</td>\n      <td>folds_stratified</td>\n      <td>true</td>\n      <td>0.8538</td>\n    </tr>\n    <tr>\n      <th>26</th>\n      <td>exp_train_02</td>\n      <td>rdf_bnd</td>\n      <td>80</td>\n      <td>3</td>\n      <td>folds_stratified</td>\n      <td>false</td>\n      <td>0.7835</td>\n    </tr>\n    <tr>\n      <th>16</th>\n      <td>exp_train_02</td>\n      <td>str_undspml</td>\n      <td>100</td>\n      <td>6</td>\n      <td>folds_stratified</td>\n      <td>false</td>\n      <td>0.5725</td>\n    </tr>\n  </tbody>\n</table>\n</div>"
     },
     "metadata": {},
     "execution_count": 20
    }
   ],
   "source": [
    "results_df = pd.DataFrame(results, columns=['Experiment', 'Pseudo Label Type', 'Pct', 'Smooth Func Code', 'Folds', 'Fine-Tune Only Last Layer', 'Hold-Out AUC-ROC'])\n",
    "results_df['Hold-Out AUC-ROC'] = results_df['Hold-Out AUC-ROC'].apply(float)\n",
    "print(results_df.shape)\n",
    "results_df.sample(5)"
   ]
  },
  {
   "cell_type": "code",
   "execution_count": 21,
   "metadata": {},
   "outputs": [
    {
     "output_type": "stream",
     "name": "stdout",
     "text": "(106, 7)\n"
    }
   ],
   "source": [
    "results_df.to_csv('../input/experiment_results.csv', index=False)\n",
    "results_df = results_df[results_df['Experiment'].apply(lambda x: 'exp_train_02' in x)]\n",
    "print(results_df.shape)"
   ]
  },
  {
   "cell_type": "code",
   "execution_count": 22,
   "metadata": {},
   "outputs": [
    {
     "output_type": "execute_result",
     "data": {
      "text/plain": "       Experiment Pseudo Label Type  Pct Smooth Func Code Folds  \\\n105  exp_train_02               NaN  NaN              NaN   NaN   \n\n    Fine-Tune Only Last Layer  Hold-Out AUC-ROC  \n105                       NaN            0.8263  ",
      "text/html": "<div>\n<style scoped>\n    .dataframe tbody tr th:only-of-type {\n        vertical-align: middle;\n    }\n\n    .dataframe tbody tr th {\n        vertical-align: top;\n    }\n\n    .dataframe thead th {\n        text-align: right;\n    }\n</style>\n<table border=\"1\" class=\"dataframe\">\n  <thead>\n    <tr style=\"text-align: right;\">\n      <th></th>\n      <th>Experiment</th>\n      <th>Pseudo Label Type</th>\n      <th>Pct</th>\n      <th>Smooth Func Code</th>\n      <th>Folds</th>\n      <th>Fine-Tune Only Last Layer</th>\n      <th>Hold-Out AUC-ROC</th>\n    </tr>\n  </thead>\n  <tbody>\n    <tr>\n      <th>105</th>\n      <td>exp_train_02</td>\n      <td>NaN</td>\n      <td>NaN</td>\n      <td>NaN</td>\n      <td>NaN</td>\n      <td>NaN</td>\n      <td>0.8263</td>\n    </tr>\n  </tbody>\n</table>\n</div>"
     },
     "metadata": {},
     "execution_count": 22
    }
   ],
   "source": [
    "results_df[pd.isna(results_df['Pseudo Label Type'])]"
   ]
  },
  {
   "cell_type": "code",
   "execution_count": 23,
   "metadata": {},
   "outputs": [
    {
     "output_type": "execute_result",
     "data": {
      "text/plain": "      Experiment Pseudo Label Type  Pct Smooth Func Code             Folds  \\\n24  exp_train_02           rdf_bnd  100                1  folds_stratified   \n49  exp_train_02       str_undspml  100                1  folds_stratified   \n80  exp_train_02       rnd_undspml  100                1  folds_stratified   \n\n   Fine-Tune Only Last Layer  Hold-Out AUC-ROC  \n24                      true            0.8313  \n49                      true            0.8259  \n80                      true            0.8387  ",
      "text/html": "<div>\n<style scoped>\n    .dataframe tbody tr th:only-of-type {\n        vertical-align: middle;\n    }\n\n    .dataframe tbody tr th {\n        vertical-align: top;\n    }\n\n    .dataframe thead th {\n        text-align: right;\n    }\n</style>\n<table border=\"1\" class=\"dataframe\">\n  <thead>\n    <tr style=\"text-align: right;\">\n      <th></th>\n      <th>Experiment</th>\n      <th>Pseudo Label Type</th>\n      <th>Pct</th>\n      <th>Smooth Func Code</th>\n      <th>Folds</th>\n      <th>Fine-Tune Only Last Layer</th>\n      <th>Hold-Out AUC-ROC</th>\n    </tr>\n  </thead>\n  <tbody>\n    <tr>\n      <th>24</th>\n      <td>exp_train_02</td>\n      <td>rdf_bnd</td>\n      <td>100</td>\n      <td>1</td>\n      <td>folds_stratified</td>\n      <td>true</td>\n      <td>0.8313</td>\n    </tr>\n    <tr>\n      <th>49</th>\n      <td>exp_train_02</td>\n      <td>str_undspml</td>\n      <td>100</td>\n      <td>1</td>\n      <td>folds_stratified</td>\n      <td>true</td>\n      <td>0.8259</td>\n    </tr>\n    <tr>\n      <th>80</th>\n      <td>exp_train_02</td>\n      <td>rnd_undspml</td>\n      <td>100</td>\n      <td>1</td>\n      <td>folds_stratified</td>\n      <td>true</td>\n      <td>0.8387</td>\n    </tr>\n  </tbody>\n</table>\n</div>"
     },
     "metadata": {},
     "execution_count": 23
    }
   ],
   "source": [
    "results_df[(results_df['Pct'] == '100') & (results_df['Smooth Func Code'] == '1')]"
   ]
  },
  {
   "cell_type": "code",
   "execution_count": 24,
   "metadata": {},
   "outputs": [
    {
     "output_type": "execute_result",
     "data": {
      "text/plain": "Fine-Tune Only Last Layer\nfalse    0.771188\ntrue     0.833531\nName: Hold-Out AUC-ROC, dtype: float64"
     },
     "metadata": {},
     "execution_count": 24
    }
   ],
   "source": [
    "results_df.groupby(['Fine-Tune Only Last Layer'])['Hold-Out AUC-ROC'].mean()"
   ]
  },
  {
   "cell_type": "code",
   "execution_count": 25,
   "metadata": {},
   "outputs": [],
   "source": [
    "results_df = results_df[results_df['Fine-Tune Only Last Layer'] == 'true']"
   ]
  },
  {
   "cell_type": "code",
   "execution_count": 26,
   "metadata": {},
   "outputs": [
    {
     "output_type": "execute_result",
     "data": {
      "text/plain": "Pseudo Label Type\nrdf_bnd        0.838678\nrnd_undspml    0.832778\nstr_undspml    0.829139\nName: Hold-Out AUC-ROC, dtype: float64"
     },
     "metadata": {},
     "execution_count": 26
    }
   ],
   "source": [
    "results_df.groupby(['Pseudo Label Type'])['Hold-Out AUC-ROC'].mean()"
   ]
  },
  {
   "cell_type": "code",
   "execution_count": 27,
   "metadata": {},
   "outputs": [
    {
     "output_type": "execute_result",
     "data": {
      "text/plain": "Pct\n100    0.800089\n50     0.852000\n80     0.848506\nName: Hold-Out AUC-ROC, dtype: float64"
     },
     "metadata": {},
     "execution_count": 27
    }
   ],
   "source": [
    "results_df.groupby(['Pct'])['Hold-Out AUC-ROC'].mean()"
   ]
  },
  {
   "cell_type": "code",
   "execution_count": 29,
   "metadata": {},
   "outputs": [
    {
     "output_type": "execute_result",
     "data": {
      "text/plain": "Smooth Func Code\n6    0.827533\n2    0.828844\n5    0.831044\n3    0.834544\n4    0.835289\n1    0.843933\nName: Hold-Out AUC-ROC, dtype: float64"
     },
     "metadata": {},
     "execution_count": 29
    }
   ],
   "source": [
    "results_df.groupby(['Smooth Func Code'])['Hold-Out AUC-ROC'].mean().sort_values()"
   ]
  }
 ],
 "metadata": {
  "kernelspec": {
   "display_name": "Python 3",
   "language": "python",
   "name": "python3"
  },
  "language_info": {
   "codemirror_mode": {
    "name": "ipython",
    "version": 3
   },
   "file_extension": ".py",
   "mimetype": "text/x-python",
   "name": "python",
   "nbconvert_exporter": "python",
   "pygments_lexer": "ipython3",
   "version": "3.7.6-final"
  }
 },
 "nbformat": 4,
 "nbformat_minor": 4
}