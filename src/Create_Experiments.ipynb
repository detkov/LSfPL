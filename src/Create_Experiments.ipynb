{
 "cells": [
  {
   "cell_type": "code",
   "execution_count": null,
   "metadata": {},
   "outputs": [],
   "source": [
    "import pandas as pd\n",
    "import numpy as np\n",
    "from os.path import join\n",
    "import os\n",
    "from itertools import product\n",
    "from tqdm import tqdm"
   ]
  },
  {
   "cell_type": "code",
   "execution_count": null,
   "metadata": {},
   "outputs": [],
   "source": [
    "INPUT_DIR = '../input'\n",
    "SUBMISSIONS_DIR = '../submissions'\n",
    "PSEUDOLABELS_DIR = join(SUBMISSIONS_DIR, 'pseudo-labels/')\n",
    "SMOOTHEDLABELS_DIR = join(PSEUDOLABELS_DIR, 'smoothed-labels/')\n",
    "os.makedirs(SMOOTHEDLABELS_DIR, exist_ok=True)\n",
    "\n",
    "\n",
    "exp_train_name = 'exp_train_02'\n",
    "target = 'target'\n",
    "target_class = 'target_class'\n",
    "\n",
    "pcts = [50, 80, 100]\n",
    "pseudo_label_sets_names = [f'{exp_train_name}_{name}.csv' \n",
    "                           for name in ['rnd_undspml', 'str_undspml', 'rdf_bnd']]"
   ]
  },
  {
   "cell_type": "markdown",
   "metadata": {},
   "source": [
    "# Define funcs"
   ]
  },
  {
   "cell_type": "code",
   "execution_count": null,
   "metadata": {},
   "outputs": [],
   "source": [
    "smooth_funcs = [\n",
    "    (1, lambda x: x),\n",
    "    (2, lambda x: 0.10 if x == 0 else 0.90),\n",
    "    (3, lambda x: 0.05 if x == 0 else 0.95),\n",
    "    (4, lambda x: 0.05 if x == 0 else 1.00),\n",
    "    (5, lambda x: 0.10 if x == 0 else 1.00),\n",
    "    (6, lambda x: 0.20 if x == 0 else 1.00),\n",
    "]"
   ]
  },
  {
   "cell_type": "code",
   "execution_count": null,
   "metadata": {},
   "outputs": [],
   "source": [
    "def take_pct_of_df(df: pd.DataFrame, pct: float, \n",
    "                   target: str = 'target', \n",
    "                   target_class: str = 'target_class'):\n",
    "    part = pct / 100\n",
    "    df_0 = df[df[target_class] == 0]\n",
    "    indices_0 = (df_0\n",
    "                 .sort_values(by=target)\n",
    "                 .reset_index()\n",
    "                 .loc[:int(len(df_0) * part), :]\n",
    "                 ['index'].values)\n",
    "    df_1 = df[df[target_class] == 1]\n",
    "    indices_1 = (df_1\n",
    "                 .sort_values(by=target, ascending=False)\n",
    "                 .reset_index()\n",
    "                 .loc[:int(len(df_1) * part), :]\n",
    "                 ['index'].values)\n",
    "    \n",
    "    indices = np.concatenate([indices_0, indices_1])\n",
    "    return df.loc[indices].reset_index(drop=True)"
   ]
  },
  {
   "cell_type": "markdown",
   "metadata": {},
   "source": [
    "# Create experiments (stratificially folded `.csv` on each experiment)"
   ]
  },
  {
   "cell_type": "code",
   "execution_count": null,
   "metadata": {},
   "outputs": [],
   "source": [
    "experiments_params = list(product(pseudo_label_sets_names, pcts, smooth_funcs))\n",
    "\n",
    "for name, pct, (func_code, smooth_func) in tqdm(experiments_params):\n",
    "    df = pd.read_csv(join(PSEUDOLABELS_DIR, name)) \n",
    "    if pct != 100: \n",
    "        df = take_pct_of_df(df, pct)\n",
    "    df['target'] = df['target_class'].apply(smooth_func)\n",
    "    \n",
    "    experiment_path = join(SMOOTHEDLABELS_DIR, f'{name[:-4]}-{pct}-{func_code}.csv')\n",
    "    \n",
    "    df.to_csv(experiment_path, index=False)\n",
    "    !python create_folds_stratified.py -i $experiment_path -f image_name -t target_class > /dev/null 2>&1"
   ]
  }
 ],
 "metadata": {
  "kernelspec": {
   "display_name": "Python 3",
   "language": "python",
   "name": "python3"
  },
  "language_info": {
   "codemirror_mode": {
    "name": "ipython",
    "version": 3
   },
   "file_extension": ".py",
   "mimetype": "text/x-python",
   "name": "python",
   "nbconvert_exporter": "python",
   "pygments_lexer": "ipython3",
   "version": "3.7.4"
  }
 },
 "nbformat": 4,
 "nbformat_minor": 4
}
