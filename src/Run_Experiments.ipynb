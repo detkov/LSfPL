{
 "cells": [
  {
   "cell_type": "code",
   "execution_count": 1,
   "metadata": {},
   "outputs": [],
   "source": [
    "import os\n",
    "from os.path import join, basename, splitext\n",
    "from itertools import product\n",
    "from glob import glob\n",
    "from tqdm import tqdm\n",
    "import time"
   ]
  },
  {
   "cell_type": "code",
   "execution_count": 2,
   "metadata": {},
   "outputs": [],
   "source": [
    "MODELS_DIR = '../models/'\n",
    "SMOOTHEDLABELS_DIR = '../input/pseudo-labels/smoothed-labels/'"
   ]
  },
  {
   "cell_type": "code",
   "execution_count": 3,
   "metadata": {},
   "outputs": [
    {
     "data": {
      "text/plain": [
       "3"
      ]
     },
     "execution_count": 3,
     "metadata": {},
     "output_type": "execute_result"
    }
   ],
   "source": [
    "# script params\n",
    "exp_tuneinfer_name = 'exp_finetune_01'\n",
    "train_only_last_layer_options = ['true'] # ['false']\n",
    "# folds_train_files = [splitext(basename(path))[0] for path in glob(join(SMOOTHEDLABELS_DIR, '*_folds_*'))]\n",
    "folds_train_files = [splitext(basename(path))[0] for path in glob(join(SMOOTHEDLABELS_DIR, '*100-1_folds_*'))]\n",
    "\n",
    "finetune_params = list(product(train_only_last_layer_options, folds_train_files))\n",
    "len(finetune_params)"
   ]
  },
  {
   "cell_type": "code",
   "execution_count": 4,
   "metadata": {},
   "outputs": [
    {
     "name": "stderr",
     "output_type": "stream",
     "text": [
      " 33%|███▎      | 1/3 [32:27<1:04:55, 1947.87s/it]"
     ]
    },
    {
     "name": "stdout",
     "output_type": "stream",
     "text": [
      "Experiment №1 ended in ~32 minutes (- 17)\n"
     ]
    },
    {
     "name": "stderr",
     "output_type": "stream",
     "text": [
      " 67%|██████▋   | 2/3 [51:15<28:21, 1701.86s/it]  "
     ]
    },
    {
     "name": "stdout",
     "output_type": "stream",
     "text": [
      "Experiment №2 ended in ~18 minutes (- 17)\n"
     ]
    },
    {
     "name": "stderr",
     "output_type": "stream",
     "text": [
      "100%|██████████| 3/3 [1:10:03<00:00, 1401.15s/it]"
     ]
    },
    {
     "name": "stdout",
     "output_type": "stream",
     "text": [
      "Experiment №3 ended in ~18 minutes (- 17)\n"
     ]
    },
    {
     "name": "stderr",
     "output_type": "stream",
     "text": [
      "\n"
     ]
    }
   ],
   "source": [
    "for i, (train_only_last_layer, folds_train_file) in enumerate(tqdm(finetune_params)):\n",
    "    start_time = time.time()\n",
    "    log_file_path = join(MODELS_DIR, folds_train_file, f'logs_{train_only_last_layer}.txt')\n",
    "    os.makedirs(join(MODELS_DIR, folds_train_file), exist_ok=True)\n",
    "    !python finetune_infer.py -c $exp_tuneinfer_name -l $train_only_last_layer -f $folds_train_file > $log_file_path\n",
    "    print(f'Experiment №{i+1} ended in ~{str(round((time.time() - start_time) // 60)).rjust(2)} minutes (- 17)')"
   ]
  },
  {
   "cell_type": "code",
   "execution_count": null,
   "metadata": {},
   "outputs": [],
   "source": []
  }
 ],
 "metadata": {
  "kernelspec": {
   "display_name": "Python 3",
   "language": "python",
   "name": "python3"
  },
  "language_info": {
   "codemirror_mode": {
    "name": "ipython",
    "version": 3
   },
   "file_extension": ".py",
   "mimetype": "text/x-python",
   "name": "python",
   "nbconvert_exporter": "python",
   "pygments_lexer": "ipython3",
   "version": "3.7.4"
  }
 },
 "nbformat": 4,
 "nbformat_minor": 4
}
