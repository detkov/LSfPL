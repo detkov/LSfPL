{
 "cells": [
  {
   "cell_type": "code",
   "execution_count": 49,
   "metadata": {},
   "outputs": [],
   "source": [
    "from os.path import join, basename, dirname, abspath\n",
    "import os\n",
    "from glob import glob\n",
    "import pandas as pd\n",
    "import numpy as np"
   ]
  },
  {
   "cell_type": "code",
   "execution_count": 50,
   "metadata": {},
   "outputs": [],
   "source": [
    "MODELS_DIR = '../models/'"
   ]
  },
  {
   "cell_type": "markdown",
   "metadata": {},
   "source": [
    "Rename exp dirs due to `train_only_last_layer`"
   ]
  },
  {
   "cell_type": "code",
   "execution_count": 52,
   "metadata": {},
   "outputs": [],
   "source": [
    "experiments_names = glob(join(MODELS_DIR, '*_folds_*'))\n",
    "experiments_names\n",
    "\n",
    "for experiments_name in experiments_names:\n",
    "    os.rename(experiments_name, experiments_name+'_true')"
   ]
  },
  {
   "cell_type": "markdown",
   "metadata": {},
   "source": []
  },
  {
   "cell_type": "code",
   "execution_count": 45,
   "metadata": {},
   "outputs": [
    {
     "data": {
      "text/plain": [
       "[[['exp_train_02_str_undspml', '80', '1_folds_stratified'], '0.8510'],\n",
       " [['exp_train_02_str_undspml', '80', '2_folds_stratified'], '0.8500'],\n",
       " [['exp_train_02_rnd_undspml', '100', '6_folds_stratified'], '0.7883'],\n",
       " [['exp_train_02_str_undspml', '80', '4_folds_stratified'], '0.8535'],\n",
       " [['exp_train_02_str_undspml', '50', '3_folds_stratified'], '0.8535'],\n",
       " [['exp_train_02_rdf_bnd', '50', '6_folds_stratified'], '0.8437'],\n",
       " [['exp_train_02_rnd_undspml', '80', '1_folds_stratified'], '0.8424'],\n",
       " [['exp_train_02_rnd_undspml', '100', '4_folds_stratified'], '0.7968'],\n",
       " [['exp_train_02_str_undspml', '50', '5_folds_stratified'], '0.8538'],\n",
       " [['exp_train_02_rdf_bnd', '80', '4_folds_stratified'], '0.8507'],\n",
       " [['exp_train_02_rnd_undspml', '50', '6_folds_stratified'], '0.8533'],\n",
       " [['exp_train_02_rdf_bnd', '80', '5_folds_stratified'], '0.8453'],\n",
       " [['exp_train_02_str_undspml', '100', '3_folds_stratified'], '0.7759'],\n",
       " [['exp_train_02_rdf_bnd', '100', '3_folds_stratified'], '0.8309'],\n",
       " [['exp_train_02_str_undspml', '100', '6_folds_stratified'], '0.7748'],\n",
       " [['exp_train_02_rnd_undspml', '100', '5_folds_stratified'], '0.7850'],\n",
       " [['exp_train_02_rdf_bnd', '100', '5_folds_stratified'], '0.8200'],\n",
       " [['exp_train_02_rnd_undspml', '100', '2_folds_stratified'], '0.7791'],\n",
       " [['exp_train_02_rnd_undspml', '50', '5_folds_stratified'], '0.8539'],\n",
       " [['exp_train_02_rnd_undspml', '50', '4_folds_stratified'], '0.8541'],\n",
       " [['exp_train_02_str_undspml', '100', '4_folds_stratified'], '0.7778'],\n",
       " [['exp_train_02_rdf_bnd', '80', '1_folds_stratified'], '0.8474'],\n",
       " [['exp_train_02_rnd_undspml', '80', '4_folds_stratified'], '0.8499'],\n",
       " [['exp_train_02_rnd_undspml', '50', '1_folds_stratified'], '0.8533'],\n",
       " [['exp_train_02_rdf_bnd', '100', '6_folds_stratified'], '0.7960'],\n",
       " [['exp_train_02_rnd_undspml', '50', '2_folds_stratified'], '0.8532'],\n",
       " [['exp_train_02_rnd_undspml', '80', '2_folds_stratified'], '0.8483'],\n",
       " [['exp_train_02_rnd_undspml', '100', '3_folds_stratified'], '0.7938'],\n",
       " [['exp_train_02_rdf_bnd', '80', '2_folds_stratified'], '0.8439'],\n",
       " [['exp_train_02_rnd_undspml', '80', '3_folds_stratified'], '0.8496'],\n",
       " [['exp_train_07'], '0.8529'],\n",
       " [['exp_train_02_rdf_bnd', '100', '2_folds_stratified'], '0.8129'],\n",
       " [['exp_train_02_rdf_bnd', '50', '4_folds_stratified'], '0.8505'],\n",
       " [['exp_train_02_str_undspml', '50', '6_folds_stratified'], '0.8532'],\n",
       " [['exp_train_02_rdf_bnd', '50', '3_folds_stratified'], '0.8504'],\n",
       " [['exp_train_02_rdf_bnd', '80', '3_folds_stratified'], '0.8500'],\n",
       " [['exp_train_02_rnd_undspml', '50', '3_folds_stratified'], '0.8538'],\n",
       " [['exp_train_02_str_undspml', '80', '5_folds_stratified'], '0.8504'],\n",
       " [['exp_train_04'], '0.8620'],\n",
       " [['exp_train_02_rdf_bnd', '50', '1_folds_stratified'], '0.8550'],\n",
       " [['exp_train_02'], '0.8263'],\n",
       " [['exp_train_05'], '0.8892'],\n",
       " [['exp_train_02_str_undspml', '100', '5_folds_stratified'], '0.7726'],\n",
       " [['exp_train_02_str_undspml', '50', '1_folds_stratified'], '0.8504'],\n",
       " [['exp_train_06'], '0.9040'],\n",
       " [['exp_train_02_rnd_undspml', '80', '5_folds_stratified'], '0.8492'],\n",
       " [['exp_train_02_str_undspml', '50', '4_folds_stratified'], '0.8536'],\n",
       " [['exp_train_02_rnd_undspml', '80', '6_folds_stratified'], '0.8473'],\n",
       " [['exp_train_03'], '0.7252'],\n",
       " [['exp_train_02_rdf_bnd', '100', '4_folds_stratified'], '0.8307'],\n",
       " [['exp_train_02_rdf_bnd', '50', '2_folds_stratified'], '0.8478'],\n",
       " [['exp_train_02_rdf_bnd', '80', '6_folds_stratified'], '0.8405'],\n",
       " [['exp_train_02_str_undspml', '100', '2_folds_stratified'], '0.7711'],\n",
       " [['exp_train_02_str_undspml', '50', '2_folds_stratified'], '0.8533'],\n",
       " [['exp_train_02_str_undspml', '80', '3_folds_stratified'], '0.8530'],\n",
       " [['exp_train_02_str_undspml', '80', '6_folds_stratified'], '0.8507'],\n",
       " [['exp_train_02_rdf_bnd', '50', '5_folds_stratified'], '0.8492']]"
      ]
     },
     "execution_count": 45,
     "metadata": {},
     "output_type": "execute_result"
    }
   ],
   "source": [
    "[[x.split('/')[-2].split('-'), basename(x).split(':')[1]] for x in glob(join(MODELS_DIR, '*/roc-auc:*'))]"
   ]
  },
  {
   "cell_type": "code",
   "execution_count": null,
   "metadata": {},
   "outputs": [],
   "source": []
  }
 ],
 "metadata": {
  "kernelspec": {
   "display_name": "Python 3",
   "language": "python",
   "name": "python3"
  },
  "language_info": {
   "codemirror_mode": {
    "name": "ipython",
    "version": 3
   },
   "file_extension": ".py",
   "mimetype": "text/x-python",
   "name": "python",
   "nbconvert_exporter": "python",
   "pygments_lexer": "ipython3",
   "version": "3.7.4"
  }
 },
 "nbformat": 4,
 "nbformat_minor": 4
}
