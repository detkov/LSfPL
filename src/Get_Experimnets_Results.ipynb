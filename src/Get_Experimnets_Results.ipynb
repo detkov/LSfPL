{
 "cells": [
  {
   "cell_type": "code",
   "execution_count": 1,
   "metadata": {},
   "outputs": [],
   "source": [
    "from os.path import join, basename, dirname, abspath\n",
    "import os\n",
    "from glob import glob\n",
    "import pandas as pd\n",
    "import numpy as np"
   ]
  },
  {
   "cell_type": "code",
   "execution_count": 2,
   "metadata": {},
   "outputs": [],
   "source": [
    "MODELS_DIR = '../models/'"
   ]
  },
  {
   "cell_type": "markdown",
   "metadata": {},
   "source": [
    "Rename exp dirs due to `train_only_last_layer`"
   ]
  },
  {
   "cell_type": "code",
   "execution_count": 3,
   "metadata": {},
   "outputs": [],
   "source": [
    "# experiments_names = glob(join(MODELS_DIR, '*_folds_*'))\n",
    "# experiments_names\n",
    "\n",
    "# for experiments_name in experiments_names:\n",
    "#     os.rename(experiments_name, experiments_name+'_true')"
   ]
  },
  {
   "cell_type": "markdown",
   "metadata": {},
   "source": []
  },
  {
   "cell_type": "code",
   "execution_count": 89,
   "metadata": {},
   "outputs": [],
   "source": [
    "results = [[*x.split('/')[-2].split('-'), basename(x).split(':')[1]] for x in glob(join(MODELS_DIR, '*folds*/roc-auc:*'))]\n",
    "results = [[result[0][:12], result[0][13:], result[1], result[2][0], result[2][2:-5], result[2][-4:], result[3]] \n",
    "            for result in results]\n",
    "results.extend([['exp_train_02', '-', '-', '-', '-', '-', '0.8263'], \n",
    "                ['exp_train_03', '-', '-', '-', '-', '-', '0.7252'], \n",
    "                ['exp_train_04', '-', '-', '-', '-', '-', '0.8620'], \n",
    "                ['exp_train_05', '-', '-', '-', '-', '-', '0.8892'], \n",
    "                ['exp_train_06', '-', '-', '-', '-', '-', '0.9040'], \n",
    "                ['exp_train_07', '-', '-', '-', '-', '-', '0.8529']])"
   ]
  },
  {
   "cell_type": "code",
   "execution_count": 98,
   "metadata": {},
   "outputs": [
    {
     "output_type": "execute_result",
     "data": {
      "text/plain": "      Experiment Pseudo Label Type Pct Smooth func code             folds  \\\n13  exp_train_02           rdf_bnd  80                5  folds_stratified   \n55  exp_train_06                 -   -                -                 -   \n17  exp_train_02       rnd_undspml  80                3  folds_stratified   \n42  exp_train_02           rdf_bnd  80                1  folds_stratified   \n48  exp_train_02       str_undspml  50                4  folds_stratified   \n\n   train_only_last_layes  hold-out auc roc  \n13                  true            0.8453  \n55                     -            0.9040  \n17                  true            0.8496  \n42                  true            0.8474  \n48                  true            0.8536  ",
      "text/html": "<div>\n<style scoped>\n    .dataframe tbody tr th:only-of-type {\n        vertical-align: middle;\n    }\n\n    .dataframe tbody tr th {\n        vertical-align: top;\n    }\n\n    .dataframe thead th {\n        text-align: right;\n    }\n</style>\n<table border=\"1\" class=\"dataframe\">\n  <thead>\n    <tr style=\"text-align: right;\">\n      <th></th>\n      <th>Experiment</th>\n      <th>Pseudo Label Type</th>\n      <th>Pct</th>\n      <th>Smooth func code</th>\n      <th>folds</th>\n      <th>train_only_last_layes</th>\n      <th>hold-out auc roc</th>\n    </tr>\n  </thead>\n  <tbody>\n    <tr>\n      <th>13</th>\n      <td>exp_train_02</td>\n      <td>rdf_bnd</td>\n      <td>80</td>\n      <td>5</td>\n      <td>folds_stratified</td>\n      <td>true</td>\n      <td>0.8453</td>\n    </tr>\n    <tr>\n      <th>55</th>\n      <td>exp_train_06</td>\n      <td>-</td>\n      <td>-</td>\n      <td>-</td>\n      <td>-</td>\n      <td>-</td>\n      <td>0.9040</td>\n    </tr>\n    <tr>\n      <th>17</th>\n      <td>exp_train_02</td>\n      <td>rnd_undspml</td>\n      <td>80</td>\n      <td>3</td>\n      <td>folds_stratified</td>\n      <td>true</td>\n      <td>0.8496</td>\n    </tr>\n    <tr>\n      <th>42</th>\n      <td>exp_train_02</td>\n      <td>rdf_bnd</td>\n      <td>80</td>\n      <td>1</td>\n      <td>folds_stratified</td>\n      <td>true</td>\n      <td>0.8474</td>\n    </tr>\n    <tr>\n      <th>48</th>\n      <td>exp_train_02</td>\n      <td>str_undspml</td>\n      <td>50</td>\n      <td>4</td>\n      <td>folds_stratified</td>\n      <td>true</td>\n      <td>0.8536</td>\n    </tr>\n  </tbody>\n</table>\n</div>"
     },
     "metadata": {},
     "execution_count": 98
    }
   ],
   "source": [
    "results_df = pd.DataFrame(results, columns=['Experiment', 'Pseudo Label Type', 'Pct', 'Smooth func code', 'folds', 'train_only_last_layes', 'hold-out auc roc'])\n",
    "results_df['hold-out auc roc'] = results_df['hold-out auc roc'].apply(float)\n",
    "results_df.sample(5)"
   ]
  },
  {
   "cell_type": "code",
   "execution_count": 91,
   "metadata": {},
   "outputs": [
    {
     "output_type": "execute_result",
     "data": {
      "text/plain": "Pseudo Label Type\n-              0.843267\nrdf_bnd        0.839112\nrnd_undspml    0.832429\nstr_undspml    0.829329\nName: hold-out auc roc, dtype: float64"
     },
     "metadata": {},
     "execution_count": 91
    }
   ],
   "source": [
    "results_df.groupby(['Pseudo Label Type'])['hold-out auc roc'].mean()"
   ]
  },
  {
   "cell_type": "code",
   "execution_count": 92,
   "metadata": {},
   "outputs": [
    {
     "output_type": "execute_result",
     "data": {
      "text/plain": "Pseudo Label Type  Pct\n-                  -      0.843267\nrdf_bnd            100    0.818100\n                   50     0.849433\n                   80     0.846300\nrnd_undspml        100    0.788600\n                   50     0.853600\n                   80     0.847783\nstr_undspml        100    0.774440\n                   50     0.852967\n                   80     0.851433\nName: hold-out auc roc, dtype: float64"
     },
     "metadata": {},
     "execution_count": 92
    }
   ],
   "source": [
    "results_df.groupby(['Pseudo Label Type', 'Pct'])['hold-out auc roc'].mean()"
   ]
  },
  {
   "cell_type": "code",
   "execution_count": 93,
   "metadata": {},
   "outputs": [
    {
     "output_type": "execute_result",
     "data": {
      "text/plain": "Pseudo Label Type  Smooth func code\n-                  -                   0.843267\nrdf_bnd            1                   0.851200\n                   2                   0.834867\n                   3                   0.843767\n                   4                   0.843967\n                   5                   0.838167\n                   6                   0.826733\nrnd_undspml        1                   0.847850\n                   2                   0.826867\n                   3                   0.832400\n                   4                   0.833600\n                   5                   0.829367\n                   6                   0.829633\nstr_undspml        1                   0.850700\n                   2                   0.824800\n                   3                   0.827467\n                   4                   0.828300\n                   5                   0.825600\n                   6                   0.826233\nName: hold-out auc roc, dtype: float64"
     },
     "metadata": {},
     "execution_count": 93
    }
   ],
   "source": [
    "results_df.groupby(['Pseudo Label Type', 'Smooth func code'])['hold-out auc roc'].mean()"
   ]
  },
  {
   "cell_type": "code",
   "execution_count": 95,
   "metadata": {},
   "outputs": [
    {
     "output_type": "execute_result",
     "data": {
      "text/plain": "    index    Experiment Pseudo Label Type Pct Smooth func code  \\\n0      55  exp_train_06                 -   -                -   \n1      54  exp_train_05                 -   -                -   \n2      53  exp_train_04                 -   -                -   \n3       9  exp_train_02           rdf_bnd  50                1   \n4       7  exp_train_02       rnd_undspml  50                4   \n5      12  exp_train_02       rnd_undspml  50                5   \n6      21  exp_train_02       str_undspml  50                5   \n7      47  exp_train_02       rnd_undspml  50                3   \n8      48  exp_train_02       str_undspml  50                4   \n9      41  exp_train_02       str_undspml  50                3   \n10     14  exp_train_02       str_undspml  80                4   \n\n               folds train_only_last_layes  hold-out auc roc  \n0                  -                     -            0.9040  \n1                  -                     -            0.8892  \n2                  -                     -            0.8620  \n3   folds_stratified                  true            0.8550  \n4   folds_stratified                  true            0.8541  \n5   folds_stratified                  true            0.8539  \n6   folds_stratified                  true            0.8538  \n7   folds_stratified                  true            0.8538  \n8   folds_stratified                  true            0.8536  \n9   folds_stratified                  true            0.8535  \n10  folds_stratified                  true            0.8535  ",
      "text/html": "<div>\n<style scoped>\n    .dataframe tbody tr th:only-of-type {\n        vertical-align: middle;\n    }\n\n    .dataframe tbody tr th {\n        vertical-align: top;\n    }\n\n    .dataframe thead th {\n        text-align: right;\n    }\n</style>\n<table border=\"1\" class=\"dataframe\">\n  <thead>\n    <tr style=\"text-align: right;\">\n      <th></th>\n      <th>index</th>\n      <th>Experiment</th>\n      <th>Pseudo Label Type</th>\n      <th>Pct</th>\n      <th>Smooth func code</th>\n      <th>folds</th>\n      <th>train_only_last_layes</th>\n      <th>hold-out auc roc</th>\n    </tr>\n  </thead>\n  <tbody>\n    <tr>\n      <th>0</th>\n      <td>55</td>\n      <td>exp_train_06</td>\n      <td>-</td>\n      <td>-</td>\n      <td>-</td>\n      <td>-</td>\n      <td>-</td>\n      <td>0.9040</td>\n    </tr>\n    <tr>\n      <th>1</th>\n      <td>54</td>\n      <td>exp_train_05</td>\n      <td>-</td>\n      <td>-</td>\n      <td>-</td>\n      <td>-</td>\n      <td>-</td>\n      <td>0.8892</td>\n    </tr>\n    <tr>\n      <th>2</th>\n      <td>53</td>\n      <td>exp_train_04</td>\n      <td>-</td>\n      <td>-</td>\n      <td>-</td>\n      <td>-</td>\n      <td>-</td>\n      <td>0.8620</td>\n    </tr>\n    <tr>\n      <th>3</th>\n      <td>9</td>\n      <td>exp_train_02</td>\n      <td>rdf_bnd</td>\n      <td>50</td>\n      <td>1</td>\n      <td>folds_stratified</td>\n      <td>true</td>\n      <td>0.8550</td>\n    </tr>\n    <tr>\n      <th>4</th>\n      <td>7</td>\n      <td>exp_train_02</td>\n      <td>rnd_undspml</td>\n      <td>50</td>\n      <td>4</td>\n      <td>folds_stratified</td>\n      <td>true</td>\n      <td>0.8541</td>\n    </tr>\n    <tr>\n      <th>5</th>\n      <td>12</td>\n      <td>exp_train_02</td>\n      <td>rnd_undspml</td>\n      <td>50</td>\n      <td>5</td>\n      <td>folds_stratified</td>\n      <td>true</td>\n      <td>0.8539</td>\n    </tr>\n    <tr>\n      <th>6</th>\n      <td>21</td>\n      <td>exp_train_02</td>\n      <td>str_undspml</td>\n      <td>50</td>\n      <td>5</td>\n      <td>folds_stratified</td>\n      <td>true</td>\n      <td>0.8538</td>\n    </tr>\n    <tr>\n      <th>7</th>\n      <td>47</td>\n      <td>exp_train_02</td>\n      <td>rnd_undspml</td>\n      <td>50</td>\n      <td>3</td>\n      <td>folds_stratified</td>\n      <td>true</td>\n      <td>0.8538</td>\n    </tr>\n    <tr>\n      <th>8</th>\n      <td>48</td>\n      <td>exp_train_02</td>\n      <td>str_undspml</td>\n      <td>50</td>\n      <td>4</td>\n      <td>folds_stratified</td>\n      <td>true</td>\n      <td>0.8536</td>\n    </tr>\n    <tr>\n      <th>9</th>\n      <td>41</td>\n      <td>exp_train_02</td>\n      <td>str_undspml</td>\n      <td>50</td>\n      <td>3</td>\n      <td>folds_stratified</td>\n      <td>true</td>\n      <td>0.8535</td>\n    </tr>\n    <tr>\n      <th>10</th>\n      <td>14</td>\n      <td>exp_train_02</td>\n      <td>str_undspml</td>\n      <td>80</td>\n      <td>4</td>\n      <td>folds_stratified</td>\n      <td>true</td>\n      <td>0.8535</td>\n    </tr>\n  </tbody>\n</table>\n</div>"
     },
     "metadata": {},
     "execution_count": 95
    }
   ],
   "source": [
    "results_df.sort_values('hold-out auc roc', ascending=False).reset_index().loc[:10]"
   ]
  },
  {
   "cell_type": "code",
   "execution_count": 96,
   "metadata": {},
   "outputs": [
    {
     "output_type": "execute_result",
     "data": {
      "text/plain": "    index    Experiment Pseudo Label Type  Pct Smooth func code  \\\n0      52  exp_train_03                 -    -                -   \n1      36  exp_train_02       str_undspml  100                2   \n2       4  exp_train_02       str_undspml  100                5   \n3      35  exp_train_02       str_undspml  100                6   \n4      44  exp_train_02       str_undspml  100                3   \n5       5  exp_train_02       str_undspml  100                4   \n6      33  exp_train_02       rnd_undspml  100                2   \n7      26  exp_train_02       rnd_undspml  100                5   \n8      31  exp_train_02       rnd_undspml  100                6   \n9      10  exp_train_02       rnd_undspml  100                3   \n10     43  exp_train_02           rdf_bnd  100                6   \n\n               folds train_only_last_layes  hold-out auc roc  \n0                  -                     -            0.7252  \n1   folds_stratified                  true            0.7711  \n2   folds_stratified                  true            0.7726  \n3   folds_stratified                  true            0.7748  \n4   folds_stratified                  true            0.7759  \n5   folds_stratified                  true            0.7778  \n6   folds_stratified                  true            0.7791  \n7   folds_stratified                  true            0.7850  \n8   folds_stratified                  true            0.7883  \n9   folds_stratified                  true            0.7938  \n10  folds_stratified                  true            0.7960  ",
      "text/html": "<div>\n<style scoped>\n    .dataframe tbody tr th:only-of-type {\n        vertical-align: middle;\n    }\n\n    .dataframe tbody tr th {\n        vertical-align: top;\n    }\n\n    .dataframe thead th {\n        text-align: right;\n    }\n</style>\n<table border=\"1\" class=\"dataframe\">\n  <thead>\n    <tr style=\"text-align: right;\">\n      <th></th>\n      <th>index</th>\n      <th>Experiment</th>\n      <th>Pseudo Label Type</th>\n      <th>Pct</th>\n      <th>Smooth func code</th>\n      <th>folds</th>\n      <th>train_only_last_layes</th>\n      <th>hold-out auc roc</th>\n    </tr>\n  </thead>\n  <tbody>\n    <tr>\n      <th>0</th>\n      <td>52</td>\n      <td>exp_train_03</td>\n      <td>-</td>\n      <td>-</td>\n      <td>-</td>\n      <td>-</td>\n      <td>-</td>\n      <td>0.7252</td>\n    </tr>\n    <tr>\n      <th>1</th>\n      <td>36</td>\n      <td>exp_train_02</td>\n      <td>str_undspml</td>\n      <td>100</td>\n      <td>2</td>\n      <td>folds_stratified</td>\n      <td>true</td>\n      <td>0.7711</td>\n    </tr>\n    <tr>\n      <th>2</th>\n      <td>4</td>\n      <td>exp_train_02</td>\n      <td>str_undspml</td>\n      <td>100</td>\n      <td>5</td>\n      <td>folds_stratified</td>\n      <td>true</td>\n      <td>0.7726</td>\n    </tr>\n    <tr>\n      <th>3</th>\n      <td>35</td>\n      <td>exp_train_02</td>\n      <td>str_undspml</td>\n      <td>100</td>\n      <td>6</td>\n      <td>folds_stratified</td>\n      <td>true</td>\n      <td>0.7748</td>\n    </tr>\n    <tr>\n      <th>4</th>\n      <td>44</td>\n      <td>exp_train_02</td>\n      <td>str_undspml</td>\n      <td>100</td>\n      <td>3</td>\n      <td>folds_stratified</td>\n      <td>true</td>\n      <td>0.7759</td>\n    </tr>\n    <tr>\n      <th>5</th>\n      <td>5</td>\n      <td>exp_train_02</td>\n      <td>str_undspml</td>\n      <td>100</td>\n      <td>4</td>\n      <td>folds_stratified</td>\n      <td>true</td>\n      <td>0.7778</td>\n    </tr>\n    <tr>\n      <th>6</th>\n      <td>33</td>\n      <td>exp_train_02</td>\n      <td>rnd_undspml</td>\n      <td>100</td>\n      <td>2</td>\n      <td>folds_stratified</td>\n      <td>true</td>\n      <td>0.7791</td>\n    </tr>\n    <tr>\n      <th>7</th>\n      <td>26</td>\n      <td>exp_train_02</td>\n      <td>rnd_undspml</td>\n      <td>100</td>\n      <td>5</td>\n      <td>folds_stratified</td>\n      <td>true</td>\n      <td>0.7850</td>\n    </tr>\n    <tr>\n      <th>8</th>\n      <td>31</td>\n      <td>exp_train_02</td>\n      <td>rnd_undspml</td>\n      <td>100</td>\n      <td>6</td>\n      <td>folds_stratified</td>\n      <td>true</td>\n      <td>0.7883</td>\n    </tr>\n    <tr>\n      <th>9</th>\n      <td>10</td>\n      <td>exp_train_02</td>\n      <td>rnd_undspml</td>\n      <td>100</td>\n      <td>3</td>\n      <td>folds_stratified</td>\n      <td>true</td>\n      <td>0.7938</td>\n    </tr>\n    <tr>\n      <th>10</th>\n      <td>43</td>\n      <td>exp_train_02</td>\n      <td>rdf_bnd</td>\n      <td>100</td>\n      <td>6</td>\n      <td>folds_stratified</td>\n      <td>true</td>\n      <td>0.7960</td>\n    </tr>\n  </tbody>\n</table>\n</div>"
     },
     "metadata": {},
     "execution_count": 96
    }
   ],
   "source": [
    "results_df.sort_values('hold-out auc roc', ascending=True).reset_index().loc[:10]"
   ]
  },
  {
   "cell_type": "code",
   "execution_count": null,
   "metadata": {},
   "outputs": [],
   "source": []
  }
 ],
 "metadata": {
  "kernelspec": {
   "display_name": "Python 3",
   "language": "python",
   "name": "python3"
  },
  "language_info": {
   "codemirror_mode": {
    "name": "ipython",
    "version": 3
   },
   "file_extension": ".py",
   "mimetype": "text/x-python",
   "name": "python",
   "nbconvert_exporter": "python",
   "pygments_lexer": "ipython3",
   "version": "3.7.6-final"
  }
 },
 "nbformat": 4,
 "nbformat_minor": 4
}