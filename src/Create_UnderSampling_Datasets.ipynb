{
 "cells": [
  {
   "cell_type": "code",
   "execution_count": 1,
   "metadata": {},
   "outputs": [],
   "source": [
    "import pandas as pd\n",
    "import numpy as np\n",
    "from os.path import join"
   ]
  },
  {
   "cell_type": "code",
   "execution_count": 2,
   "metadata": {},
   "outputs": [],
   "source": [
    "INPUT_DIR = '../input'\n",
    "SUBMISSIONS_DIR = '../submissions'\n",
    "exp_name = 'exp_train_02'\n",
    "target = 'target'"
   ]
  },
  {
   "cell_type": "markdown",
   "metadata": {},
   "source": [
    "# Create UnderSampling Datasets"
   ]
  },
  {
   "cell_type": "code",
   "execution_count": 3,
   "metadata": {},
   "outputs": [
    {
     "output_type": "stream",
     "name": "stdout",
     "text": "0    0.98237\n1    0.01763\nName: target, dtype: float64\n0    32542\n1      584\nName: target, dtype: int64\n"
    }
   ],
   "source": [
    "train_df = pd.read_csv(join(INPUT_DIR, 'train.csv'))\n",
    "test_df  = pd.read_csv(join(INPUT_DIR, 'test.csv' ))\n",
    "print(train_df[target].apply(round).value_counts(normalize=True))\n",
    "print(train_df[target].apply(round).value_counts())"
   ]
  },
  {
   "cell_type": "code",
   "execution_count": 4,
   "metadata": {},
   "outputs": [
    {
     "output_type": "stream",
     "name": "stdout",
     "text": "0    0.99481\n1    0.00519\nName: target, dtype: float64\n0    10925\n1       57\nName: target, dtype: int64\n"
    }
   ],
   "source": [
    "submission_df = pd.read_csv(join(SUBMISSIONS_DIR, f'{exp_name}.csv'))\n",
    "print(submission_df[target].apply(round).value_counts(normalize=True))\n",
    "print(submission_df[target].apply(round).value_counts()) # just to chectarget"
   ]
  },
  {
   "cell_type": "code",
   "execution_count": 5,
   "metadata": {},
   "outputs": [
    {
     "output_type": "stream",
     "name": "stdout",
     "text": "0    0.982585\n1    0.017415\nName: target, dtype: float64\n0    3216\n1      57\nName: target, dtype: int64\n"
    }
   ],
   "source": [
    "def get_randomly_undersampled_df(df: pd.DataFrame, ethalon_df: pd.DataFrame, \n",
    "                                target: str = 'target'):\n",
    "    df_dis = df[target].apply(round).value_counts(normalize=True)\n",
    "    ethalon_dis = ethalon_df[target].value_counts(normalize=True)\n",
    "    \n",
    "    underrepersented_class = (df_dis - ethalon_dis).argmin()\n",
    "    undersampling_k = ethalon_dis[underrepersented_class] / df_dis[underrepersented_class]\n",
    "    \n",
    "    overrepresented_df  = df[~(df[target].apply(round) == underrepersented_class)]\n",
    "    underrepresented_df = df[ (df[target].apply(round) == underrepersented_class)]\n",
    "    \n",
    "    samples_N_to_choose = int(len(overrepresented_df) / undersampling_k)\n",
    "    random_indices_to_choose = np.random.choice(overrepresented_df.index, samples_N_to_choose, replace=False)\n",
    "    randomly_undersampled_indices = np.concatenate([underrepresented_df.index, random_indices_to_choose])\n",
    "    \n",
    "    randomly_undersampled_df = df.loc[randomly_undersampled_indices].reset_index(drop=True)\n",
    "    return randomly_undersampled_df\n",
    "\n",
    "\n",
    "rnd_undspml_df = get_randomly_undersampled_df(submission_df, train_df)\n",
    "print(rnd_undspml_df[target].apply(round).value_counts(normalize=True)) # just to check\n",
    "print(rnd_undspml_df[target].apply(round).value_counts()) # just to check"
   ]
  },
  {
   "cell_type": "code",
   "execution_count": 6,
   "metadata": {},
   "outputs": [
    {
     "output_type": "execute_result",
     "data": {
      "text/plain": "        image_name    target  patient_id  target_digit\n0     ISIC_0470699  0.530370  IP_6587568             1\n1     ISIC_0637104  0.633393  IP_7242799             1\n2     ISIC_0945202  0.521758  IP_5422189             1\n3     ISIC_1294368  0.688024  IP_5661694             1\n4     ISIC_1364884  0.647823  IP_5038795             1\n...            ...       ...         ...           ...\n3268  ISIC_1989507  0.000614  IP_3579794             0\n3269  ISIC_1841330  0.076807  IP_2020841             0\n3270  ISIC_2982140  0.018963  IP_7706695             0\n3271  ISIC_1599454  0.000713  IP_9225429             0\n3272  ISIC_7155184  0.000377  IP_3678754             0\n\n[3273 rows x 4 columns]",
      "text/html": "<div>\n<style scoped>\n    .dataframe tbody tr th:only-of-type {\n        vertical-align: middle;\n    }\n\n    .dataframe tbody tr th {\n        vertical-align: top;\n    }\n\n    .dataframe thead th {\n        text-align: right;\n    }\n</style>\n<table border=\"1\" class=\"dataframe\">\n  <thead>\n    <tr style=\"text-align: right;\">\n      <th></th>\n      <th>image_name</th>\n      <th>target</th>\n      <th>patient_id</th>\n      <th>target_digit</th>\n    </tr>\n  </thead>\n  <tbody>\n    <tr>\n      <th>0</th>\n      <td>ISIC_0470699</td>\n      <td>0.530370</td>\n      <td>IP_6587568</td>\n      <td>1</td>\n    </tr>\n    <tr>\n      <th>1</th>\n      <td>ISIC_0637104</td>\n      <td>0.633393</td>\n      <td>IP_7242799</td>\n      <td>1</td>\n    </tr>\n    <tr>\n      <th>2</th>\n      <td>ISIC_0945202</td>\n      <td>0.521758</td>\n      <td>IP_5422189</td>\n      <td>1</td>\n    </tr>\n    <tr>\n      <th>3</th>\n      <td>ISIC_1294368</td>\n      <td>0.688024</td>\n      <td>IP_5661694</td>\n      <td>1</td>\n    </tr>\n    <tr>\n      <th>4</th>\n      <td>ISIC_1364884</td>\n      <td>0.647823</td>\n      <td>IP_5038795</td>\n      <td>1</td>\n    </tr>\n    <tr>\n      <th>...</th>\n      <td>...</td>\n      <td>...</td>\n      <td>...</td>\n      <td>...</td>\n    </tr>\n    <tr>\n      <th>3268</th>\n      <td>ISIC_1989507</td>\n      <td>0.000614</td>\n      <td>IP_3579794</td>\n      <td>0</td>\n    </tr>\n    <tr>\n      <th>3269</th>\n      <td>ISIC_1841330</td>\n      <td>0.076807</td>\n      <td>IP_2020841</td>\n      <td>0</td>\n    </tr>\n    <tr>\n      <th>3270</th>\n      <td>ISIC_2982140</td>\n      <td>0.018963</td>\n      <td>IP_7706695</td>\n      <td>0</td>\n    </tr>\n    <tr>\n      <th>3271</th>\n      <td>ISIC_1599454</td>\n      <td>0.000713</td>\n      <td>IP_9225429</td>\n      <td>0</td>\n    </tr>\n    <tr>\n      <th>3272</th>\n      <td>ISIC_7155184</td>\n      <td>0.000377</td>\n      <td>IP_3678754</td>\n      <td>0</td>\n    </tr>\n  </tbody>\n</table>\n<p>3273 rows × 4 columns</p>\n</div>"
     },
     "metadata": {},
     "execution_count": 6
    }
   ],
   "source": [
    "rnd_undspml_df = pd.merge(rnd_undspml_df, test_df[['image_name', 'patient_id']], on=['image_name'], how='left')\n",
    "rnd_undspml_df['target_digit'] = rnd_undspml_df['target'].apply(round)\n",
    "rnd_undspml_df"
   ]
  },
  {
   "cell_type": "code",
   "execution_count": 7,
   "metadata": {},
   "outputs": [],
   "source": [
    "rnd_undspml_df.to_csv(join(INPUT_DIR, f'{exp_name}_rnd_undspml.csv'), index=False)"
   ]
  },
  {
   "cell_type": "code",
   "execution_count": 8,
   "metadata": {},
   "outputs": [
    {
     "output_type": "stream",
     "name": "stdout",
     "text": "0    0.982574\n1    0.017426\nName: target, dtype: float64\n0    3214\n1      57\nName: target, dtype: int64\n"
    }
   ],
   "source": [
    "def get_stratificially_undersampled_df(df: pd.DataFrame, ethalon_df: pd.DataFrame, \n",
    "                                       target: str = 'target'):\n",
    "    bins = [0, 0.1, 0.2, 0.3, 0.4, 0.5, 0.6, 0.7, 0.8, 0.9, 1.1]\n",
    "    df['target_bins'] = pd.cut(df[target], bins=bins, right=False).astype(str)\n",
    "    \n",
    "    df_dis = df['target'].apply(round).value_counts(normalize=True)\n",
    "    ethalon_dis = ethalon_df[target].value_counts(normalize=True)\n",
    "    underrepersented_class = (df_dis - ethalon_dis).argmin()\n",
    "    undersampling_k = ethalon_dis[underrepersented_class] / df_dis[underrepersented_class]\n",
    "\n",
    "    df['oversampled'] = df[target].apply(round).apply(lambda x: x != underrepersented_class)\n",
    "    \n",
    "    overrepresented_df = df[df['oversampled']]\n",
    "    underrepresented_df = df[~df['oversampled']]\n",
    "    \n",
    "    stratified_indices = []\n",
    "\n",
    "    for target_bin in overrepresented_df['target_bins'].unique():\n",
    "        target_bin_df = overrepresented_df[overrepresented_df['target_bins'] == target_bin]\n",
    "        samples_N_to_choose = int(len(target_bin_df) / undersampling_k)\n",
    "        stratified_indices_to_choose = np.random.choice(target_bin_df.index, samples_N_to_choose, replace=False).tolist()\n",
    "        stratified_indices.extend(stratified_indices_to_choose)\n",
    "\n",
    "    stratificially_undersampled_indices = np.concatenate([underrepresented_df.index, stratified_indices])\n",
    "    stratificially_undersampled_df = df.loc[stratificially_undersampled_indices].reset_index(drop=True)\n",
    "    return stratificially_undersampled_df.drop(['target_bins', 'oversampled'], axis=1)\n",
    "\n",
    "str_undspml_df = get_stratificially_undersampled_df(submission_df, train_df)\n",
    "print(str_undspml_df[target].apply(round).value_counts(normalize=True)) # just to check\n",
    "print(str_undspml_df[target].apply(round).value_counts()) # just to check"
   ]
  },
  {
   "cell_type": "code",
   "execution_count": 9,
   "metadata": {},
   "outputs": [
    {
     "output_type": "execute_result",
     "data": {
      "text/plain": "        image_name    target  patient_id  target_digit\n0     ISIC_0470699  0.530370  IP_6587568             1\n1     ISIC_0637104  0.633393  IP_7242799             1\n2     ISIC_0945202  0.521758  IP_5422189             1\n3     ISIC_1294368  0.688024  IP_5661694             1\n4     ISIC_1364884  0.647823  IP_5038795             1\n...            ...       ...         ...           ...\n3266  ISIC_7904829  0.456778  IP_3872865             0\n3267  ISIC_8234611  0.452973  IP_1061000             0\n3268  ISIC_5994923  0.442949  IP_6488213             0\n3269  ISIC_1198439  0.490370  IP_3872004             0\n3270  ISIC_3265514  0.490757  IP_9168687             0\n\n[3271 rows x 4 columns]",
      "text/html": "<div>\n<style scoped>\n    .dataframe tbody tr th:only-of-type {\n        vertical-align: middle;\n    }\n\n    .dataframe tbody tr th {\n        vertical-align: top;\n    }\n\n    .dataframe thead th {\n        text-align: right;\n    }\n</style>\n<table border=\"1\" class=\"dataframe\">\n  <thead>\n    <tr style=\"text-align: right;\">\n      <th></th>\n      <th>image_name</th>\n      <th>target</th>\n      <th>patient_id</th>\n      <th>target_digit</th>\n    </tr>\n  </thead>\n  <tbody>\n    <tr>\n      <th>0</th>\n      <td>ISIC_0470699</td>\n      <td>0.530370</td>\n      <td>IP_6587568</td>\n      <td>1</td>\n    </tr>\n    <tr>\n      <th>1</th>\n      <td>ISIC_0637104</td>\n      <td>0.633393</td>\n      <td>IP_7242799</td>\n      <td>1</td>\n    </tr>\n    <tr>\n      <th>2</th>\n      <td>ISIC_0945202</td>\n      <td>0.521758</td>\n      <td>IP_5422189</td>\n      <td>1</td>\n    </tr>\n    <tr>\n      <th>3</th>\n      <td>ISIC_1294368</td>\n      <td>0.688024</td>\n      <td>IP_5661694</td>\n      <td>1</td>\n    </tr>\n    <tr>\n      <th>4</th>\n      <td>ISIC_1364884</td>\n      <td>0.647823</td>\n      <td>IP_5038795</td>\n      <td>1</td>\n    </tr>\n    <tr>\n      <th>...</th>\n      <td>...</td>\n      <td>...</td>\n      <td>...</td>\n      <td>...</td>\n    </tr>\n    <tr>\n      <th>3266</th>\n      <td>ISIC_7904829</td>\n      <td>0.456778</td>\n      <td>IP_3872865</td>\n      <td>0</td>\n    </tr>\n    <tr>\n      <th>3267</th>\n      <td>ISIC_8234611</td>\n      <td>0.452973</td>\n      <td>IP_1061000</td>\n      <td>0</td>\n    </tr>\n    <tr>\n      <th>3268</th>\n      <td>ISIC_5994923</td>\n      <td>0.442949</td>\n      <td>IP_6488213</td>\n      <td>0</td>\n    </tr>\n    <tr>\n      <th>3269</th>\n      <td>ISIC_1198439</td>\n      <td>0.490370</td>\n      <td>IP_3872004</td>\n      <td>0</td>\n    </tr>\n    <tr>\n      <th>3270</th>\n      <td>ISIC_3265514</td>\n      <td>0.490757</td>\n      <td>IP_9168687</td>\n      <td>0</td>\n    </tr>\n  </tbody>\n</table>\n<p>3271 rows × 4 columns</p>\n</div>"
     },
     "metadata": {},
     "execution_count": 9
    }
   ],
   "source": [
    "str_undspml_df = pd.merge(str_undspml_df, test_df[['image_name', 'patient_id']], on=['image_name'], how='left')\n",
    "str_undspml_df['target_digit'] = str_undspml_df['target'].apply(round)\n",
    "str_undspml_df"
   ]
  },
  {
   "cell_type": "code",
   "execution_count": 10,
   "metadata": {},
   "outputs": [],
   "source": [
    "str_undspml_df.to_csv(join(INPUT_DIR, f'{exp_name}_str_undspml.csv'), index=False)"
   ]
  },
  {
   "cell_type": "code",
   "execution_count": null,
   "metadata": {},
   "outputs": [],
   "source": []
  }
 ],
 "metadata": {
  "kernelspec": {
   "display_name": "Python 3",
   "language": "python",
   "name": "python3"
  },
  "language_info": {
   "codemirror_mode": {
    "name": "ipython",
    "version": 3
   },
   "file_extension": ".py",
   "mimetype": "text/x-python",
   "name": "python",
   "nbconvert_exporter": "python",
   "pygments_lexer": "ipython3",
   "version": "3.7.4-final"
  }
 },
 "nbformat": 4,
 "nbformat_minor": 4
}