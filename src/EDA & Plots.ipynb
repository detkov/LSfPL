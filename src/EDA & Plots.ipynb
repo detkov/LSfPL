{
 "cells": [
  {
   "cell_type": "markdown",
   "metadata": {},
   "source": [
    "# Looking at target distribution"
   ]
  },
  {
   "cell_type": "code",
   "execution_count": null,
   "metadata": {},
   "outputs": [],
   "source": [
    "import pandas as pd"
   ]
  },
  {
   "cell_type": "code",
   "execution_count": null,
   "metadata": {},
   "outputs": [],
   "source": [
    "train = pd.read_csv('../input/train.csv')\n",
    "print(train.shape)\n",
    "train.head()"
   ]
  },
  {
   "cell_type": "code",
   "execution_count": null,
   "metadata": {},
   "outputs": [],
   "source": [
    "train['target'].value_counts(normalize=True) * 100"
   ]
  },
  {
   "cell_type": "code",
   "execution_count": null,
   "metadata": {},
   "outputs": [],
   "source": [
    "test = pd.read_csv('../input/test.csv')\n",
    "print(test.shape)\n",
    "test.head()"
   ]
  },
  {
   "cell_type": "code",
   "execution_count": null,
   "metadata": {},
   "outputs": [],
   "source": [
    "train_folds = pd.read_csv('../input/train_folds_stratified.csv')\n",
    "print(train_folds.shape)\n",
    "train_folds.groupby('kfold')['target'].value_counts(normalize=True) * 100"
   ]
  },
  {
   "cell_type": "code",
   "execution_count": null,
   "metadata": {},
   "outputs": [],
   "source": [
    "train_folds = pd.read_csv('../input/train_folds_groups.csv')\n",
    "print(train_folds.shape)\n",
    "train_folds.groupby('kfold')['target'].value_counts(normalize=True) * 100"
   ]
  },
  {
   "cell_type": "markdown",
   "metadata": {},
   "source": [
    "# Plots, wide EDA, etc."
   ]
  },
  {
   "cell_type": "code",
   "execution_count": null,
   "metadata": {},
   "outputs": [],
   "source": [
    "import pandas as pd\n",
    "import numpy as np\n",
    "\n",
    "import matplotlib.pyplot as plt\n",
    "%matplotlib inline\n",
    "import seaborn as sns\n",
    "from matplotlib import rc\n",
    "rc('font',**{'family':'sans-serif','sans-serif':['DejaVu Sans'],'size':10})\n",
    "rc('mathtext',**{'default':'regular'})\n",
    "%config InlineBackend.figure_format = 'retina'\n",
    "plt.style.use('seaborn-whitegrid')\n",
    "plt.rc('xtick', labelsize='x-small')\n",
    "plt.rc('ytick', labelsize='x-small')"
   ]
  },
  {
   "cell_type": "code",
   "execution_count": null,
   "metadata": {},
   "outputs": [],
   "source": [
    "train = pd.read_csv('../input/train.csv')\n",
    "test = pd.read_csv('../input/test.csv')\n",
    "\n",
    "anatom_site_general_challenge_tr = {'oral/genital': 'Полость/Гениталии',\n",
    "                                    'palms/soles': 'Ладонь/Подошва',\n",
    "                                    'head/neck': 'Голова/Шея',\n",
    "                                    'upper extremity': 'Верхняя конечность',\n",
    "                                    'lower extremity': 'Нижняя конечность',\n",
    "                                    'torso': 'Туловище'}\n",
    "train['anatom_site_general_challenge'] = train['anatom_site_general_challenge'].map(anatom_site_general_challenge_tr)\n",
    "test['anatom_site_general_challenge'] = test['anatom_site_general_challenge'].map(anatom_site_general_challenge_tr)\n",
    "\n",
    "benign_malignant_tr = {'benign': 'Доброкачественная', 'malignant': 'Злокачественная'}\n",
    "train['benign_malignant'] = train['benign_malignant'].map(benign_malignant_tr)"
   ]
  },
  {
   "cell_type": "code",
   "execution_count": null,
   "metadata": {},
   "outputs": [],
   "source": [
    "train['target'].value_counts()"
   ]
  },
  {
   "cell_type": "code",
   "execution_count": null,
   "metadata": {},
   "outputs": [],
   "source": [
    "train.groupby('patient_id')['sex'].first().value_counts(), test.groupby('patient_id')['sex'].first().value_counts()"
   ]
  },
  {
   "cell_type": "code",
   "execution_count": null,
   "metadata": {},
   "outputs": [],
   "source": [
    "data = train['anatom_site_general_challenge'].value_counts(normalize=True).sort_values().values\n",
    "labels = train['anatom_site_general_challenge'].value_counts(normalize=True).sort_values().index"
   ]
  },
  {
   "cell_type": "code",
   "execution_count": null,
   "metadata": {},
   "outputs": [],
   "source": [
    "def stylize_axes(ax):\n",
    "    ax.spines['top'].set_visible(False)\n",
    "    ax.spines['right'].set_visible(False)\n",
    "\n",
    "    ax.xaxis.set_tick_params(top='off', direction='out', width=1)\n",
    "    ax.yaxis.set_tick_params(right='off', direction='out', width=1)\n",
    "    ax.grid(False)"
   ]
  },
  {
   "cell_type": "code",
   "execution_count": null,
   "metadata": {},
   "outputs": [],
   "source": [
    "site_vs_diagnosis = train.groupby(['anatom_site_general_challenge', 'benign_malignant']).count()['patient_id']\n",
    "site_vs_diagnosis"
   ]
  },
  {
   "cell_type": "code",
   "execution_count": null,
   "metadata": {},
   "outputs": [],
   "source": [
    "site_vs_diagnosis = train.groupby(['anatom_site_general_challenge', 'benign_malignant']).count()['patient_id'].tolist()\n",
    "labels = train['anatom_site_general_challenge'].value_counts(normalize=True).sort_values().index\n",
    "benign_data = site_vs_diagnosis[0:12:2]\n",
    "maglignant_data = site_vs_diagnosis[1:12:2]\n",
    "x = np.arange(len(labels))\n",
    "width = 0.35\n",
    "\n",
    "fig, ax = plt.subplots(figsize = (8,5))\n",
    "rects1 = ax.bar(x - width/2, benign_data, width, label=benign_malignant_tr['benign'], color='g')\n",
    "rects2 = ax.bar(x + width/2, maglignant_data, width, label=benign_malignant_tr['malignant'], color='r')\n",
    "ax.set_ylabel('Количество изображений родинок пациента')\n",
    "ax.set_xlabel('Расположение на теле')\n",
    "ax.set_title('Количество пациентов по типам опухолей и их расположению')\n",
    "ax.set_xticks(x)\n",
    "ax.set_xticklabels(labels)\n",
    "ax.legend()\n",
    "\n",
    "def autolabel(rects):\n",
    "    \"\"\"Attach a text label above each bar in *rects*, displaying its height.\"\"\"\n",
    "    for rect in rects:\n",
    "        height = rect.get_height()\n",
    "        ax.annotate('{}'.format(height),\n",
    "                    xy=(rect.get_x() + rect.get_width() / 2, height),\n",
    "                    xytext=(0, 3),  # 3 points vertical offset\n",
    "                    textcoords=\"offset points\",\n",
    "                    ha='center', va='bottom')\n",
    "        \n",
    "autolabel(rects1)\n",
    "autolabel(rects2)\n",
    "stylize_axes(ax)\n",
    "ax.grid(True, axis='y')\n",
    "\n",
    "fig.tight_layout()\n",
    "fig.savefig('../plots/patients_target_site.png', dpi=300, bbox_inches='tight', transparent=True)\n",
    "plt.show()"
   ]
  },
  {
   "cell_type": "code",
   "execution_count": null,
   "metadata": {},
   "outputs": [],
   "source": [
    "fig, ax = plt.subplots(figsize = (8,4))\n",
    "image_freq_per_patient = train.groupby(['patient_id']).size()\n",
    "ax.hist(image_freq_per_patient, \n",
    "        image_freq_per_patient.nunique(), color='black')\n",
    "ax.set_title('Количество пациентов с различным количеством изображений родинок')\n",
    "ax.set_xlabel('Количество изображений родинок')\n",
    "ax.set_ylabel('Количество пациентов')\n",
    "ax.set_xticks(range(0, 120, 5))\n",
    "ax.set_yticks(list(range(0, 100, 10)) + list(range(100, 310, 20)))\n",
    "ax.set_xlim(0)\n",
    "stylize_axes(ax)\n",
    "ax.grid(True, axis='y')\n",
    "fig.tight_layout()\n",
    "fig.savefig('../plots/pic_per_pacient.png', dpi=300, bbox_inches='tight', transparent=True)"
   ]
  },
  {
   "cell_type": "code",
   "execution_count": null,
   "metadata": {},
   "outputs": [],
   "source": [
    "fig, ax = plt.subplots(figsize = (8,6))\n",
    "\n",
    "sns.countplot(train['age_approx'], hue=train['benign_malignant'], palette=['g', 'r'], ax=ax)\n",
    "stylize_axes(ax)\n",
    "ax.legend()\n",
    "ax.set_yticks(list(range(0, 1050, 100)) + list(range(1000, 4600, 200)))\n",
    "ax.grid(True, axis='y')\n",
    "\n",
    "ax.set_title('Распределение возраста пациентов в момент снимка родинки')\n",
    "ax.set_xlabel('Возраст')\n",
    "ax.set_ylabel('Количество изображений')\n",
    "ax.set_xticklabels([str(x*5) for x in ax.get_xticks()])\n",
    "fig.tight_layout()\n",
    "fig.savefig('../plots/age_distr.png', dpi=300, bbox_inches='tight', transparent=True)"
   ]
  },
  {
   "cell_type": "code",
   "execution_count": null,
   "metadata": {},
   "outputs": [],
   "source": [
    "fig, ax = plt.subplots(figsize = (8,6))\n",
    "\n",
    "width = 0.35\n",
    "\n",
    "rects = ax.bar(train.groupby(['patient_id'])['age_approx'].nunique().value_counts().index, \n",
    "               train.groupby(['patient_id'])['age_approx'].nunique().value_counts().values, color='k')\n",
    "ax.set_title('Количество разных пятёрок лет, на протяжении которых были сделаны изображения родинок')\n",
    "ax.set_ylabel('Количество пациентов')\n",
    "ax.set_xlabel('Количество пятёрок лет')\n",
    "\n",
    "def autolabel(rects):\n",
    "    \"\"\"Attach a text label above each bar in *rects*, displaying its height.\"\"\"\n",
    "    for rect in rects:\n",
    "        height = rect.get_height()\n",
    "        ax.annotate('{}'.format(height),\n",
    "                    xy=(rect.get_x() + rect.get_width() / 2, height),\n",
    "                    xytext=(0, 3),  # 3 points vertical offset\n",
    "                    textcoords=\"offset points\",\n",
    "                    ha='center', va='bottom')\n",
    "\n",
    "autolabel(rects)\n",
    "stylize_axes(ax)\n",
    "fig.tight_layout()\n",
    "fig.savefig('../plots/nuniq_age_per_patient.png', dpi=300, bbox_inches='tight', transparent=True)"
   ]
  },
  {
   "cell_type": "code",
   "execution_count": null,
   "metadata": {},
   "outputs": [],
   "source": [
    "train.groupby(['patient_id']).size()"
   ]
  },
  {
   "cell_type": "code",
   "execution_count": null,
   "metadata": {},
   "outputs": [],
   "source": [
    "train.groupby(['patient_id']).size().mean()"
   ]
  },
  {
   "cell_type": "code",
   "execution_count": null,
   "metadata": {},
   "outputs": [],
   "source": [
    "fig, ax = plt.subplots(figsize=(8,6))\n",
    "\n",
    "ax.boxplot(train.groupby(['patient_id']).size(), showfliers=False, vert=False)\n",
    "stylize_axes(ax)\n",
    "\n",
    "ax.set_title('Диаграмма размаха по пациентам')\n",
    "ax.set_xlabel('Количество изображений')\n",
    "\n",
    "ax.set_xlim(0)\n",
    "ax.set_ylim(0.8, 1.2)\n",
    "ax.set_xticks(range(0, 55, 5))\n",
    "ax.set_yticks([])\n",
    "ax.grid(True, axis='x')\n",
    "\n",
    "fig.tight_layout()\n",
    "fig.savefig('../plots/npics_per_patient_boxplot.png', dpi=300, bbox_inches='tight', transparent=True)"
   ]
  },
  {
   "cell_type": "markdown",
   "metadata": {},
   "source": [
    "# Analyse hold-out predictions"
   ]
  },
  {
   "cell_type": "code",
   "execution_count": null,
   "metadata": {},
   "outputs": [],
   "source": [
    "import pandas as pd\n",
    "import numpy as np\n",
    "\n",
    "import matplotlib.pyplot as plt\n",
    "%matplotlib inline\n",
    "import seaborn as sns\n",
    "from matplotlib import rc\n",
    "rc('font',**{'family':'sans-serif','sans-serif':['DejaVu Sans'],'size':10})\n",
    "rc('mathtext',**{'default':'regular'})\n",
    "%config InlineBackend.figure_format = 'retina'\n",
    "# plt.style.use('seaborn-whitegrid')\n",
    "# plt.rc('xtick', labelsize='x-small')\n",
    "# plt.rc('ytick', labelsize='x-small')"
   ]
  },
  {
   "cell_type": "code",
   "execution_count": null,
   "metadata": {},
   "outputs": [],
   "source": [
    "exps_n = [2, 6, 7]\n",
    "hold_outs = [pd.read_csv(f'../models/exp_train_0{exp_n}/exp_train_0{exp_n}_hold_out.csv') for exp_n in exps_n]"
   ]
  },
  {
   "cell_type": "code",
   "execution_count": null,
   "metadata": {},
   "outputs": [],
   "source": [
    "def stylize_axes(ax):\n",
    "    ax.spines['top'].set_visible(False)\n",
    "    ax.spines['right'].set_visible(False)\n",
    "\n",
    "    ax.xaxis.set_tick_params(top='off', direction='out', width=1)\n",
    "    ax.yaxis.set_tick_params(right='off', direction='out', width=1)\n",
    "    ax.grid(False)"
   ]
  },
  {
   "cell_type": "code",
   "execution_count": null,
   "metadata": {},
   "outputs": [],
   "source": [
    "n_cols = 3\n",
    "fig, axs = plt.subplots(1, n_cols, figsize=(n_cols*5,6))\n",
    "\n",
    "fig.suptitle('Распределение предсказаний на hold-out сете', y=1.05, fontsize=20)\n",
    "for i in range(n_cols):\n",
    "    temp_df = hold_outs[i]\n",
    "    axs[i].set_title(f'Эксперимент № {exps_n[i]}', fontsize=14)\n",
    "    sns.kdeplot(temp_df[temp_df['target'] == 0]['prediction'], shade=True, \n",
    "                label='Доброкачественная', color='g', ax=axs[i])\n",
    "    sns.kdeplot(temp_df[temp_df['target'] == 1]['prediction'], shade=True, \n",
    "                label='Злокачественная', color='r', ax=axs[i])\n",
    "    axs[i].set_xlim(0, 1)\n",
    "    axs[i].set_xlabel('Значение предсказания', fontsize=14)\n",
    "    stylize_axes(axs[i])\n",
    "    axs[i].legend(prop={'size': 16})\n",
    "    axs[i].tick_params(axis='both', which='major', labelsize=16)\n",
    "\n",
    "fig.tight_layout()\n",
    "fig.savefig('../plots/hold-out_2,6,7_kde.png', dpi=300, bbox_inches='tight', transparent=True)"
   ]
  }
 ],
 "metadata": {
  "kernelspec": {
   "display_name": "Python 3",
   "language": "python",
   "name": "python3"
  },
  "language_info": {
   "codemirror_mode": {
    "name": "ipython",
    "version": 3
   },
   "file_extension": ".py",
   "mimetype": "text/x-python",
   "name": "python",
   "nbconvert_exporter": "python",
   "pygments_lexer": "ipython3",
   "version": "3.7.4"
  }
 },
 "nbformat": 4,
 "nbformat_minor": 4
}
