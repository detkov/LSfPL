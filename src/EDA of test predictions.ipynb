{
 "cells": [
  {
   "cell_type": "code",
   "execution_count": 1,
   "metadata": {},
   "outputs": [],
   "source": [
    "import pandas as pd\n",
    "import numpy as np\n",
    "from os.path import join\n",
    "from typing import List, Union, Tuple"
   ]
  },
  {
   "cell_type": "code",
   "execution_count": 2,
   "metadata": {},
   "outputs": [],
   "source": [
    "INPUT_DIR = '../input'\n",
    "SUBMISSIONS_DIR = '../submissions'"
   ]
  },
  {
   "cell_type": "code",
   "execution_count": 3,
   "metadata": {},
   "outputs": [],
   "source": [
    "submission_name = 'exp_train_02.csv'"
   ]
  },
  {
   "cell_type": "code",
   "execution_count": 4,
   "metadata": {},
   "outputs": [
    {
     "name": "stdout",
     "output_type": "stream",
     "text": [
      "Number of samples in train: 33126\n",
      "Target dictribution:\n",
      "0    98.237034\n",
      "1     1.762966\n",
      "Name: target, dtype: float64\n",
      "\n",
      "Number of samples in submission: 10982\n",
      "Target dictribution:\n",
      "0    99.480969\n",
      "1     0.519031\n",
      "Name: target, dtype: float64\n"
     ]
    }
   ],
   "source": [
    "def print_distribution_info(df: pd.DataFrame, target: str, name_of_df: str):\n",
    "    print(f'Number of samples in {name_of_df}: {df.shape[0]}')\n",
    "    print(f'Target dictribution:')\n",
    "    print(df[target].apply(round).value_counts(normalize=True) * 100)\n",
    "\n",
    "\n",
    "train_df = pd.read_csv(join(INPUT_DIR, 'train.csv'))\n",
    "submission_df = pd.read_csv(join(SUBMISSIONS_DIR, submission_name))\n",
    "print_distribution_info(train_df, 'target', 'train')\n",
    "print()\n",
    "print_distribution_info(submission_df, 'target', 'submission')"
   ]
  },
  {
   "cell_type": "code",
   "execution_count": 5,
   "metadata": {},
   "outputs": [
    {
     "name": "stdout",
     "output_type": "stream",
     "text": [
      "Number (N) of predictions in bins (Assuming class = 0 if p<0.5 else 1)\n",
      "             Abs      % % of its class\n",
      "[0, 0.05]  10057  91.58          92.05\n",
      "[0, 0.1]   10430  94.97          95.47\n",
      "[0, 0.15]  10599  96.51          97.02\n",
      "[0, 0.2]   10712  97.54          98.05\n",
      "[0, 0.5)   10925  99.48         100.00\n",
      "[0.5, 1]      57   0.52         100.00\n",
      "[0.8, 1]       5   0.05           8.77\n",
      "[0.85, 1]      1   0.01           1.75\n",
      "[0.9, 1]       0   0.00           0.00\n",
      "[0.95, 1]      0   0.00           0.00\n"
     ]
    }
   ],
   "source": [
    "def print_bins_distribution_info(df: pd.DataFrame, \n",
    "                                 custom_bins: List[Tuple[int, Tuple[float, float]]]):\n",
    "    rows = []\n",
    "    class_0_df, class_1_df = df[df['target'] < 0.50], df[df['target'] >= 0.50]\n",
    "    \n",
    "    for i, (class_, custom_bin) in enumerate(custom_bins):\n",
    "        class_df_len = class_0_df.shape[0] if class_ == 0 else class_1_df.shape[0]\n",
    "        \n",
    "        hist, _ = np.histogram(df['target'], bins=custom_bin)\n",
    "        \n",
    "        abs_val = hist[0]\n",
    "        pct_val = round(abs_val / df.shape[0] * 100, 2)        \n",
    "        pct_class_val = round(abs_val / class_df_len * 100, 2)\n",
    "        \n",
    "        rows.append([abs_val, f'{pct_val:.2f}', f'{pct_class_val:.2f}'])\n",
    "\n",
    "    indices = [str(custom_bin) for (class_, custom_bin) in custom_bins]\n",
    "    indices[len(indices)//2-1] = '[0, 0.5)'\n",
    "\n",
    "    rows_df = pd.DataFrame(rows, index=indices, columns=['Abs', '%', '% of its class'])\n",
    "\n",
    "    print('Number (N) of predictions in bins (Assuming class = 0 if p<0.5 else 1)')\n",
    "    print(rows_df)\n",
    "\n",
    "\n",
    "custom_bins = [[0, [0, 0.05]], [0, [0, 0.10]], [0, [0, 0.15]], [0, [0, 0.20]], [0, [0, 0.50 - 1e-12]], \n",
    "               [1, [0.50, 1]], [1, [0.80, 1]], [1, [0.85, 1]], [1, [0.90, 1]], [1, [0.95, 1]]]\n",
    "print_bins_distribution_info(submission_df, custom_bins)"
   ]
  }
 ],
 "metadata": {
  "kernelspec": {
   "display_name": "Python 3",
   "language": "python",
   "name": "python3"
  },
  "language_info": {
   "codemirror_mode": {
    "name": "ipython",
    "version": 3
   },
   "file_extension": ".py",
   "mimetype": "text/x-python",
   "name": "python",
   "nbconvert_exporter": "python",
   "pygments_lexer": "ipython3",
   "version": "3.7.4"
  }
 },
 "nbformat": 4,
 "nbformat_minor": 4
}
